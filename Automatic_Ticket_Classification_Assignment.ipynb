{
 "cells": [
  {
   "cell_type": "markdown",
   "metadata": {
    "id": "rhR-ZUkwJrFn"
   },
   "source": [
    "## Problem Statement \n",
    "\n",
    "You need to build a model that is able to classify customer complaints based on the products/services. By doing so, you can segregate these tickets into their relevant categories and, therefore, help in the quick resolution of the issue.\n",
    "\n",
    "You will be doing topic modelling on the <b>.json</b> data provided by the company. Since this data is not labelled, you need to apply NMF to analyse patterns and classify tickets into the following five clusters based on their products/services:\n",
    "\n",
    "* Credit card / Prepaid card\n",
    "\n",
    "* Bank account services\n",
    "\n",
    "* Theft/Dispute reporting\n",
    "\n",
    "* Mortgages/loans\n",
    "\n",
    "* Others \n",
    "\n",
    "\n",
    "With the help of topic modelling, you will be able to map each ticket onto its respective department/category. You can then use this data to train any supervised model such as logistic regression, decision tree or random forest. Using this trained model, you can classify any new customer complaint support ticket into its relevant department."
   ]
  },
  {
   "cell_type": "markdown",
   "metadata": {
    "id": "mcgXVNyaLUFS"
   },
   "source": [
    "## Pipelines that needs to be performed:\n",
    "\n",
    "You need to perform the following eight major tasks to complete the assignment:\n",
    "\n",
    "1.  Data loading\n",
    "\n",
    "2. Text preprocessing\n",
    "\n",
    "3. Exploratory data analysis (EDA)\n",
    "\n",
    "4. Feature extraction\n",
    "\n",
    "5. Topic modelling \n",
    "\n",
    "6. Model building using supervised learning\n",
    "\n",
    "7. Model training and evaluation\n",
    "\n",
    "8. Model inference"
   ]
  },
  {
   "cell_type": "markdown",
   "metadata": {
    "id": "JuLFIymAL58u"
   },
   "source": [
    "## Importing the necessary libraries"
   ]
  },
  {
   "cell_type": "code",
   "execution_count": 1,
   "metadata": {
    "id": "O-Q9pqrcJrFr"
   },
   "outputs": [],
   "source": [
    "import json\n",
    "import numpy as np\n",
    "import pandas as pd\n",
    "import re, nltk, spacy, string\n",
    "import en_core_web_sm\n",
    "nlp = en_core_web_sm.load()\n",
    "import seaborn as sns\n",
    "import matplotlib.pyplot as plt\n",
    "%matplotlib inline\n",
    "\n",
    "from plotly.offline import plot\n",
    "import plotly.graph_objects as go\n",
    "import plotly.express as px\n",
    "\n",
    "from sklearn.feature_extraction.text import CountVectorizer, TfidfVectorizer\n",
    "from pprint import pprint\n",
    "\n",
    "import re"
   ]
  },
  {
   "cell_type": "markdown",
   "metadata": {
    "id": "KtRLCsNVJrFt"
   },
   "source": [
    "## Loading the data\n",
    "\n",
    "The data is in JSON format and we need to convert it to a dataframe."
   ]
  },
  {
   "cell_type": "code",
   "execution_count": 2,
   "metadata": {
    "id": "puVzIf_iJrFt"
   },
   "outputs": [],
   "source": [
    "# Opening JSON file\n",
    "f = open('complaints-2021-05-14_08_16.json', 'r') # Write the path to your data file and load it\n",
    "\n",
    "# returns JSON object as\n",
    "# a dictionary\n",
    "data = json.load(f)\n",
    "f.close()\n",
    "df=pd.json_normalize(data)"
   ]
  },
  {
   "cell_type": "markdown",
   "metadata": {
    "id": "_xYpH-sAJrFu"
   },
   "source": [
    "## Data preparation"
   ]
  },
  {
   "cell_type": "code",
   "execution_count": 3,
   "metadata": {
    "id": "Lf8ufHH5JrFu"
   },
   "outputs": [
    {
     "name": "stdout",
     "output_type": "stream",
     "text": [
      "The Shape of the dataset is:  (78313, 22)\n"
     ]
    }
   ],
   "source": [
    "# Inspect the dataframe to understand the given data.\n",
    "df.head()\n",
    "print(\"The Shape of the dataset is: \", df.shape)"
   ]
  },
  {
   "cell_type": "code",
   "execution_count": 4,
   "metadata": {
    "id": "Dwcty-wmJrFw"
   },
   "outputs": [
    {
     "data": {
      "text/plain": [
       "Index(['_index', '_type', '_id', '_score', '_source.tags', '_source.zip_code',\n",
       "       '_source.complaint_id', '_source.issue', '_source.date_received',\n",
       "       '_source.state', '_source.consumer_disputed', '_source.product',\n",
       "       '_source.company_response', '_source.company', '_source.submitted_via',\n",
       "       '_source.date_sent_to_company', '_source.company_public_response',\n",
       "       '_source.sub_product', '_source.timely',\n",
       "       '_source.complaint_what_happened', '_source.sub_issue',\n",
       "       '_source.consumer_consent_provided'],\n",
       "      dtype='object')"
      ]
     },
     "execution_count": 4,
     "metadata": {},
     "output_type": "execute_result"
    }
   ],
   "source": [
    "#print the column names\n",
    "df.columns"
   ]
  },
  {
   "cell_type": "code",
   "execution_count": 5,
   "metadata": {
    "id": "FYCtKXD1JrFw"
   },
   "outputs": [
    {
     "name": "stdout",
     "output_type": "stream",
     "text": [
      "columns after rename: \n",
      " Index(['index', 'type', 'id', 'score', 'tags', 'zip_code', 'complaint_id',\n",
      "       'issue', 'date_received', 'state', 'consumer_disputed', 'product',\n",
      "       'company_response', 'company', 'submitted_via', 'date_sent_to_company',\n",
      "       'company_public_response', 'sub_product', 'timely',\n",
      "       'complaint_what_happened', 'sub_issue', 'consumer_consent_provided'],\n",
      "      dtype='object')\n"
     ]
    }
   ],
   "source": [
    "#Assign new column names\n",
    "columns_rename_map = {}\n",
    "for cols in df.columns:\n",
    "    columns_rename_map[cols]=cols.replace('_source.', '')\n",
    "    if columns_rename_map[cols][0] == '_':\n",
    "        columns_rename_map[cols] = columns_rename_map[cols][1:]\n",
    "\n",
    "df.rename(columns = columns_rename_map, inplace=True)\n",
    "\n",
    "print(\"columns after rename: \\n\", df.columns)\n",
    "#df.rename(columns= )"
   ]
  },
  {
   "cell_type": "code",
   "execution_count": 6,
   "metadata": {
    "id": "grQUPFL5JrFx"
   },
   "outputs": [],
   "source": [
    "#Assign nan in place of blanks in the complaints column\n",
    "df[df['complaint_what_happened'] == ''] = np.nan"
   ]
  },
  {
   "cell_type": "code",
   "execution_count": 7,
   "metadata": {
    "id": "Jfxd8VSmJrFy"
   },
   "outputs": [],
   "source": [
    "#Remove all rows where complaints column is nan\n",
    "df.dropna(subset=('complaint_what_happened'), inplace=True)"
   ]
  },
  {
   "cell_type": "code",
   "execution_count": 8,
   "metadata": {},
   "outputs": [
    {
     "name": "stdout",
     "output_type": "stream",
     "text": [
      "Data after Removing Duplicates (21072, 22)\n"
     ]
    }
   ],
   "source": [
    "print(\"Data after Removing Duplicates\", df.shape)"
   ]
  },
  {
   "cell_type": "markdown",
   "metadata": {
    "id": "L944HZpsJrFy"
   },
   "source": [
    "## Prepare the text for topic modeling\n",
    "\n",
    "Once you have removed all the blank complaints, you need to:\n",
    "\n",
    "* Make the text lowercase\n",
    "* Remove text in square brackets\n",
    "* Remove punctuation\n",
    "* Remove words containing numbers\n",
    "\n",
    "\n",
    "Once you have done these cleaning operations you need to perform the following:\n",
    "* Lemmatize the texts\n",
    "* Extract the POS tags of the lemmatized text and remove all the words which have tags other than NN[tag == \"NN\"].\n"
   ]
  },
  {
   "cell_type": "code",
   "execution_count": 9,
   "metadata": {
    "id": "qm7SjjSkJrFz"
   },
   "outputs": [],
   "source": [
    "# Write your function here to clean the text and remove all the unnecessary elements.\n",
    "import re\n",
    "def cleanup_column(data):\n",
    "    \"Convert text to lower case, remove text in square braces, remove punctuations, remove words containing numbers\"\n",
    "    data = data.lower()\n",
    "    data = re.sub(r'\\[.*?\\]', '', data)\n",
    "    data = re.sub(re.escape(\"[{}]\".format(string.punctuation)), '', data)\n",
    "    data = re.sub(r'\\w*\\d\\w*', '', data)\n",
    "    return data"
   ]
  },
  {
   "cell_type": "code",
   "execution_count": 10,
   "metadata": {},
   "outputs": [
    {
     "data": {
      "text/plain": [
       "1        good morning my name is xxxx xxxx and i apprec...\n",
       "2        i upgraded my xxxx xxxx card in xx/xx/ and was...\n",
       "10       chase card was reported on xx/xx/. however, fr...\n",
       "11       on xx/xx/, while trying to book a xxxx  xxxx  ...\n",
       "14       my grand son give me check for {$.} i deposit ...\n",
       "                               ...                        \n",
       "78303    after being a chase card customer for well ove...\n",
       "78309    on wednesday, xx/xx/xxxx i called chas, my xxx...\n",
       "78310    i am not familiar with xxxx pay and did not un...\n",
       "78311    i have had flawless credit for  yrs. i've had ...\n",
       "78312    roughly + years ago i closed out my accounts w...\n",
       "Name: complaint_what_happened, Length: 21072, dtype: object"
      ]
     },
     "execution_count": 10,
     "metadata": {},
     "output_type": "execute_result"
    }
   ],
   "source": [
    "df['complaint_what_happened'] = df['complaint_what_happened'].astype(str)\n",
    "df['complaint_what_happened'] = df['complaint_what_happened'].apply(lambda x: cleanup_column(x))\n",
    "df['complaint_what_happened']"
   ]
  },
  {
   "cell_type": "code",
   "execution_count": 11,
   "metadata": {
    "id": "zgOu8t8HJrFz"
   },
   "outputs": [],
   "source": [
    "#Write your function to Lemmatize the texts\n",
    "\n",
    "def lemmatize(input_str):\n",
    "    response = []\n",
    "    document = nlp(input_str)\n",
    "    for word in document:\n",
    "        response.append(word.lemma_)\n",
    "    response = ' '.join(response)\n",
    "    return response"
   ]
  },
  {
   "cell_type": "code",
   "execution_count": 12,
   "metadata": {
    "id": "uXnN7aa_JrF0"
   },
   "outputs": [
    {
     "data": {
      "text/html": [
       "<div>\n",
       "<style scoped>\n",
       "    .dataframe tbody tr th:only-of-type {\n",
       "        vertical-align: middle;\n",
       "    }\n",
       "\n",
       "    .dataframe tbody tr th {\n",
       "        vertical-align: top;\n",
       "    }\n",
       "\n",
       "    .dataframe thead th {\n",
       "        text-align: right;\n",
       "    }\n",
       "</style>\n",
       "<table border=\"1\" class=\"dataframe\">\n",
       "  <thead>\n",
       "    <tr style=\"text-align: right;\">\n",
       "      <th></th>\n",
       "      <th>complaint_what_happened</th>\n",
       "      <th>complaint_lemmatized</th>\n",
       "    </tr>\n",
       "  </thead>\n",
       "  <tbody>\n",
       "    <tr>\n",
       "      <th>1</th>\n",
       "      <td>good morning my name is xxxx xxxx and i apprec...</td>\n",
       "      <td>good morning my name be xxxx xxxx and I apprec...</td>\n",
       "    </tr>\n",
       "    <tr>\n",
       "      <th>2</th>\n",
       "      <td>i upgraded my xxxx xxxx card in xx/xx/ and was...</td>\n",
       "      <td>I upgrade my xxxx xxxx card in xx / xx/ and be...</td>\n",
       "    </tr>\n",
       "    <tr>\n",
       "      <th>10</th>\n",
       "      <td>chase card was reported on xx/xx/. however, fr...</td>\n",
       "      <td>chase card be report on xx / xx/. however , fr...</td>\n",
       "    </tr>\n",
       "    <tr>\n",
       "      <th>11</th>\n",
       "      <td>on xx/xx/, while trying to book a xxxx  xxxx  ...</td>\n",
       "      <td>on xx / xx/ , while try to book a xxxx   xxxx ...</td>\n",
       "    </tr>\n",
       "    <tr>\n",
       "      <th>14</th>\n",
       "      <td>my grand son give me check for {$.} i deposit ...</td>\n",
       "      <td>my grand son give I check for { $ . } I deposi...</td>\n",
       "    </tr>\n",
       "  </tbody>\n",
       "</table>\n",
       "</div>"
      ],
      "text/plain": [
       "                              complaint_what_happened  \\\n",
       "1   good morning my name is xxxx xxxx and i apprec...   \n",
       "2   i upgraded my xxxx xxxx card in xx/xx/ and was...   \n",
       "10  chase card was reported on xx/xx/. however, fr...   \n",
       "11  on xx/xx/, while trying to book a xxxx  xxxx  ...   \n",
       "14  my grand son give me check for {$.} i deposit ...   \n",
       "\n",
       "                                 complaint_lemmatized  \n",
       "1   good morning my name be xxxx xxxx and I apprec...  \n",
       "2   I upgrade my xxxx xxxx card in xx / xx/ and be...  \n",
       "10  chase card be report on xx / xx/. however , fr...  \n",
       "11  on xx / xx/ , while try to book a xxxx   xxxx ...  \n",
       "14  my grand son give I check for { $ . } I deposi...  "
      ]
     },
     "execution_count": 12,
     "metadata": {},
     "output_type": "execute_result"
    }
   ],
   "source": [
    "#Create a dataframe('df_clean') that will have only the complaints and the lemmatized complaints\n",
    "df_clean = pd.DataFrame(df['complaint_what_happened'])\n",
    "df_clean['complaint_lemmatized'] = df_clean['complaint_what_happened'].apply(lambda x: lemmatize(x))\n",
    "df_clean.head()"
   ]
  },
  {
   "cell_type": "code",
   "execution_count": 13,
   "metadata": {
    "id": "Kk7fc4DuJrF1"
   },
   "outputs": [],
   "source": [
    "#Write your function to extract the POS tags\n",
    "\n",
    "import nltk\n",
    "from nltk.corpus import stopwords\n",
    "from nltk.tokenize import word_tokenize\n",
    "\n",
    "\n",
    "def filter_out_tag(pos_tag_data, filter_tag=\"NN\"):\n",
    "    return ' '.join([word for (word, tag) in pos_tag_data if tag == filter_tag])\n",
    "\n",
    "def get_pos_tag(text):\n",
    "  # write your code here\n",
    "    py_txt = word_tokenize(text)\n",
    "    tag_data = nltk.pos_tag(py_txt)\n",
    "    return filter_out_tag(tag_data)\n",
    "\n",
    "df_clean[\"complaint_POS_removed\"] =  df_clean[\"complaint_what_happened\"].apply(lambda x: get_pos_tag(x) )  #this column should contain lemmatized text with all the words removed which have tags other than NN[tag == \"NN\"].\n"
   ]
  },
  {
   "cell_type": "code",
   "execution_count": 14,
   "metadata": {
    "id": "AjxfchvFJrF2"
   },
   "outputs": [
    {
     "data": {
      "text/html": [
       "<div>\n",
       "<style scoped>\n",
       "    .dataframe tbody tr th:only-of-type {\n",
       "        vertical-align: middle;\n",
       "    }\n",
       "\n",
       "    .dataframe tbody tr th {\n",
       "        vertical-align: top;\n",
       "    }\n",
       "\n",
       "    .dataframe thead th {\n",
       "        text-align: right;\n",
       "    }\n",
       "</style>\n",
       "<table border=\"1\" class=\"dataframe\">\n",
       "  <thead>\n",
       "    <tr style=\"text-align: right;\">\n",
       "      <th></th>\n",
       "      <th>complaint_what_happened</th>\n",
       "      <th>complaint_lemmatized</th>\n",
       "      <th>complaint_POS_removed</th>\n",
       "    </tr>\n",
       "  </thead>\n",
       "  <tbody>\n",
       "    <tr>\n",
       "      <th>1</th>\n",
       "      <td>good morning my name is xxxx xxxx and i apprec...</td>\n",
       "      <td>good morning my name be xxxx xxxx and I apprec...</td>\n",
       "      <td>morning name stop bank cardmember debt verific...</td>\n",
       "    </tr>\n",
       "    <tr>\n",
       "      <th>2</th>\n",
       "      <td>i upgraded my xxxx xxxx card in xx/xx/ and was...</td>\n",
       "      <td>I upgrade my xxxx xxxx card in xx / xx/ and be...</td>\n",
       "      <td>i card agent upgrade date agent information or...</td>\n",
       "    </tr>\n",
       "    <tr>\n",
       "      <th>10</th>\n",
       "      <td>chase card was reported on xx/xx/. however, fr...</td>\n",
       "      <td>chase card be report on xx / xx/. however , fr...</td>\n",
       "      <td>card xx/xx/ application identity consent credi...</td>\n",
       "    </tr>\n",
       "    <tr>\n",
       "      <th>11</th>\n",
       "      <td>on xx/xx/, while trying to book a xxxx  xxxx  ...</td>\n",
       "      <td>on xx / xx/ , while try to book a xxxx   xxxx ...</td>\n",
       "      <td>book xxxx ticket i offer ticket card i informa...</td>\n",
       "    </tr>\n",
       "    <tr>\n",
       "      <th>14</th>\n",
       "      <td>my grand son give me check for {$.} i deposit ...</td>\n",
       "      <td>my grand son give I check for { $ . } I deposi...</td>\n",
       "      <td>son deposit chase account fund chase bank acco...</td>\n",
       "    </tr>\n",
       "    <tr>\n",
       "      <th>...</th>\n",
       "      <td>...</td>\n",
       "      <td>...</td>\n",
       "      <td>...</td>\n",
       "    </tr>\n",
       "    <tr>\n",
       "      <th>78303</th>\n",
       "      <td>after being a chase card customer for well ove...</td>\n",
       "      <td>after be a chase card customer for well over a...</td>\n",
       "      <td>chase card customer decade credit airline hote...</td>\n",
       "    </tr>\n",
       "    <tr>\n",
       "      <th>78309</th>\n",
       "      <td>on wednesday, xx/xx/xxxx i called chas, my xxx...</td>\n",
       "      <td>on wednesday , xx / xx / xxxx I call chas , my...</td>\n",
       "      <td>wednesday xx/xx/xxxx i chas visa credit card p...</td>\n",
       "    </tr>\n",
       "    <tr>\n",
       "      <th>78310</th>\n",
       "      <td>i am not familiar with xxxx pay and did not un...</td>\n",
       "      <td>I be not familiar with xxxx pay and do not und...</td>\n",
       "      <td>i pay risk i bank app chase mobile banking i m...</td>\n",
       "    </tr>\n",
       "    <tr>\n",
       "      <th>78311</th>\n",
       "      <td>i have had flawless credit for  yrs. i've had ...</td>\n",
       "      <td>I have have flawless credit for   yrs . I have...</td>\n",
       "      <td>i credit yrs credit chase freedom xxxx balance...</td>\n",
       "    </tr>\n",
       "    <tr>\n",
       "      <th>78312</th>\n",
       "      <td>roughly + years ago i closed out my accounts w...</td>\n",
       "      <td>roughly + year ago I close out my account with...</td>\n",
       "      <td>jp bank xxxx order line credit i i account pay...</td>\n",
       "    </tr>\n",
       "  </tbody>\n",
       "</table>\n",
       "<p>21072 rows × 3 columns</p>\n",
       "</div>"
      ],
      "text/plain": [
       "                                 complaint_what_happened  \\\n",
       "1      good morning my name is xxxx xxxx and i apprec...   \n",
       "2      i upgraded my xxxx xxxx card in xx/xx/ and was...   \n",
       "10     chase card was reported on xx/xx/. however, fr...   \n",
       "11     on xx/xx/, while trying to book a xxxx  xxxx  ...   \n",
       "14     my grand son give me check for {$.} i deposit ...   \n",
       "...                                                  ...   \n",
       "78303  after being a chase card customer for well ove...   \n",
       "78309  on wednesday, xx/xx/xxxx i called chas, my xxx...   \n",
       "78310  i am not familiar with xxxx pay and did not un...   \n",
       "78311  i have had flawless credit for  yrs. i've had ...   \n",
       "78312  roughly + years ago i closed out my accounts w...   \n",
       "\n",
       "                                    complaint_lemmatized  \\\n",
       "1      good morning my name be xxxx xxxx and I apprec...   \n",
       "2      I upgrade my xxxx xxxx card in xx / xx/ and be...   \n",
       "10     chase card be report on xx / xx/. however , fr...   \n",
       "11     on xx / xx/ , while try to book a xxxx   xxxx ...   \n",
       "14     my grand son give I check for { $ . } I deposi...   \n",
       "...                                                  ...   \n",
       "78303  after be a chase card customer for well over a...   \n",
       "78309  on wednesday , xx / xx / xxxx I call chas , my...   \n",
       "78310  I be not familiar with xxxx pay and do not und...   \n",
       "78311  I have have flawless credit for   yrs . I have...   \n",
       "78312  roughly + year ago I close out my account with...   \n",
       "\n",
       "                                   complaint_POS_removed  \n",
       "1      morning name stop bank cardmember debt verific...  \n",
       "2      i card agent upgrade date agent information or...  \n",
       "10     card xx/xx/ application identity consent credi...  \n",
       "11     book xxxx ticket i offer ticket card i informa...  \n",
       "14     son deposit chase account fund chase bank acco...  \n",
       "...                                                  ...  \n",
       "78303  chase card customer decade credit airline hote...  \n",
       "78309  wednesday xx/xx/xxxx i chas visa credit card p...  \n",
       "78310  i pay risk i bank app chase mobile banking i m...  \n",
       "78311  i credit yrs credit chase freedom xxxx balance...  \n",
       "78312  jp bank xxxx order line credit i i account pay...  \n",
       "\n",
       "[21072 rows x 3 columns]"
      ]
     },
     "execution_count": 14,
     "metadata": {},
     "output_type": "execute_result"
    }
   ],
   "source": [
    "#The clean dataframe should now contain the raw complaint, lemmatized complaint and the complaint after removing POS tags.\n",
    "df_clean"
   ]
  },
  {
   "cell_type": "markdown",
   "metadata": {
    "id": "_7Un1AElJrF2"
   },
   "source": [
    "## Exploratory data analysis to get familiar with the data.\n",
    "\n",
    "Write the code in this task to perform the following:\n",
    "\n",
    "*   Visualise the data according to the 'Complaint' character length\n",
    "*   Using a word cloud find the top 40 words by frequency among all the articles after processing the text\n",
    "*   Find the top unigrams,bigrams and trigrams by frequency among all the complaints after processing the text. ‘\n",
    "\n",
    "\n"
   ]
  },
  {
   "cell_type": "code",
   "execution_count": 15,
   "metadata": {
    "id": "q-zaqJF6JrF2"
   },
   "outputs": [
    {
     "data": {
      "image/png": "[encoded data removed]",
      "text/plain": [
       "<Figure size 1000x600 with 1 Axes>"
      ]
     },
     "metadata": {},
     "output_type": "display_data"
    }
   ],
   "source": [
    "# Write your code here to visualise the data according to the 'Complaint' character length\n",
    "\n",
    "import seaborn as sns\n",
    "import matplotlib.pyplot as plt\n",
    "%matplotlib inline\n",
    "\n",
    "\n",
    "plt.figure(figsize=(10,6))\n",
    "\n",
    "plt.hist([len(word) for word in df_clean['complaint_POS_removed']], bins=100)\n",
    "\n",
    "plt.legend(\"Distribution of Length of strings\")\n",
    "plt.ylabel('Number of Complaint')\n",
    "plt.xlabel('Complaint character length')\n",
    "plt.show()"
   ]
  },
  {
   "cell_type": "markdown",
   "metadata": {
    "id": "T9jD_6SeJrF3"
   },
   "source": [
    "#### Find the top 40 words by frequency among all the articles after processing the text."
   ]
  },
  {
   "cell_type": "code",
   "execution_count": 16,
   "metadata": {},
   "outputs": [
    {
     "name": "stdout",
     "output_type": "stream",
     "text": [
      "Requirement already satisfied: wordcloud in c:\\program files\\python39\\lib\\site-packages (1.9.2)\n",
      "Requirement already satisfied: numpy>=1.6.1 in c:\\program files\\python39\\lib\\site-packages (from wordcloud) (1.26.1)\n",
      "Requirement already satisfied: pillow in c:\\program files\\python39\\lib\\site-packages (from wordcloud) (10.0.0)\n",
      "Requirement already satisfied: matplotlib in c:\\program files\\python39\\lib\\site-packages (from wordcloud) (3.7.2)\n",
      "Requirement already satisfied: contourpy>=1.0.1 in c:\\program files\\python39\\lib\\site-packages (from matplotlib->wordcloud) (1.1.0)\n",
      "Requirement already satisfied: cycler>=0.10 in c:\\program files\\python39\\lib\\site-packages (from matplotlib->wordcloud) (0.11.0)\n",
      "Requirement already satisfied: fonttools>=4.22.0 in c:\\program files\\python39\\lib\\site-packages (from matplotlib->wordcloud) (4.42.0)\n",
      "Requirement already satisfied: kiwisolver>=1.0.1 in c:\\program files\\python39\\lib\\site-packages (from matplotlib->wordcloud) (1.4.4)\n",
      "Requirement already satisfied: packaging>=20.0 in c:\\program files\\python39\\lib\\site-packages (from matplotlib->wordcloud) (23.1)\n",
      "Requirement already satisfied: pyparsing<3.1,>=2.3.1 in c:\\program files\\python39\\lib\\site-packages (from matplotlib->wordcloud) (3.0.9)\n",
      "Requirement already satisfied: python-dateutil>=2.7 in c:\\program files\\python39\\lib\\site-packages (from matplotlib->wordcloud) (2.8.2)\n",
      "Requirement already satisfied: importlib-resources>=3.2.0 in c:\\program files\\python39\\lib\\site-packages (from matplotlib->wordcloud) (6.0.1)\n",
      "Requirement already satisfied: zipp>=3.1.0 in c:\\program files\\python39\\lib\\site-packages (from importlib-resources>=3.2.0->matplotlib->wordcloud) (3.16.2)\n",
      "Requirement already satisfied: six>=1.5 in c:\\program files\\python39\\lib\\site-packages (from python-dateutil>=2.7->matplotlib->wordcloud) (1.16.0)\n"
     ]
    }
   ],
   "source": [
    "!pip install wordcloud"
   ]
  },
  {
   "cell_type": "code",
   "execution_count": 17,
   "metadata": {
    "id": "QcfdvtfZJrF3"
   },
   "outputs": [
    {
     "name": "stdout",
     "output_type": "stream",
     "text": [
      "<wordcloud.wordcloud.WordCloud object at 0x0000029285CEF070>\n"
     ]
    },
    {
     "data": {
      "image/png": "[encoded data removed]",
      "text/plain": [
       "<Figure size 640x480 with 1 Axes>"
      ]
     },
     "metadata": {},
     "output_type": "display_data"
    }
   ],
   "source": [
    "#Using a word cloud find the top 40 words by frequency among all the articles after processing the text\n",
    "\n",
    "from wordcloud import WordCloud, STOPWORDS\n",
    "stopwords = set(STOPWORDS)\n",
    "\n",
    "wordcloud = WordCloud(\n",
    "                          background_color='white',\n",
    "                          stopwords=stopwords,\n",
    "                          max_words=40,\n",
    "                          max_font_size=60,\n",
    "                          random_state=42\n",
    "                         ).generate(str(df_clean['complaint_POS_removed']))\n",
    "\n",
    "print(wordcloud)\n",
    "fig = plt.figure(1)\n",
    "plt.imshow(wordcloud)\n",
    "plt.axis('off')\n",
    "plt.show()"
   ]
  },
  {
   "cell_type": "code",
   "execution_count": 18,
   "metadata": {
    "id": "OkSmc3UaJrF4"
   },
   "outputs": [],
   "source": [
    "#Removing -PRON- from the text corpus\n",
    "df_clean['Complaint_clean'] = df_clean['complaint_POS_removed'].str.replace('-PRON-', '')"
   ]
  },
  {
   "cell_type": "code",
   "execution_count": 19,
   "metadata": {},
   "outputs": [
    {
     "data": {
      "text/plain": [
       "1     morning name stop bank cardmember debt verific...\n",
       "2     i card agent upgrade date agent information or...\n",
       "10    card xx/xx/ application identity consent credi...\n",
       "11    book xxxx ticket i offer ticket card i informa...\n",
       "14    son deposit chase account fund chase bank acco...\n",
       "Name: Complaint_clean, dtype: object"
      ]
     },
     "execution_count": 19,
     "metadata": {},
     "output_type": "execute_result"
    }
   ],
   "source": [
    "df_clean['Complaint_clean'].head()"
   ]
  },
  {
   "cell_type": "markdown",
   "metadata": {
    "id": "5DfCSbbmJrF4"
   },
   "source": [
    "#### Find the top unigrams,bigrams and trigrams by frequency among all the complaints after processing the text."
   ]
  },
  {
   "cell_type": "code",
   "execution_count": 20,
   "metadata": {},
   "outputs": [],
   "source": [
    "# Generic function for getting n-gram\n",
    "def get_top_n_grams(text, n_gram=1, return_records=0):\n",
    "    vec = CountVectorizer(ngram_range=(n_gram, n_gram), stop_words='english')\n",
    "    vec.fit(text)\n",
    "    bow = vec.transform(text)\n",
    "    sum_of_words = bow.sum(axis=0)\n",
    "    vocab = vec.vocabulary_\n",
    "    words_by_frequency = [(sum_of_words[0, index], word) for word, index in vocab.items()]\n",
    "    sorted_words_by_frequency = sorted(words_by_frequency, key = lambda x:x[0], reverse=True)\n",
    "    #return_data = pd.DataFrame([(count_values[0, index], word) for word, index in vocab.items()], columns = ('Frequency', '%d-gram' % n_gram ))\n",
    "    return_data = pd.DataFrame(sorted_words_by_frequency, columns = ('Frequency', '%d-gram' % n_gram ))\n",
    "    if return_records != 0:\n",
    "        return_data = return_data[:return_records]\n",
    "    return return_data\n"
   ]
  },
  {
   "cell_type": "code",
   "execution_count": 21,
   "metadata": {
    "id": "5mbk5DS5JrF4"
   },
   "outputs": [
    {
     "name": "stdout",
     "output_type": "stream",
     "text": [
      "Extracted a frequency with a unigram of shape: (30, 2)\n"
     ]
    }
   ],
   "source": [
    "#Write your code here to find the top 30 unigram frequency among the complaints in the cleaned datafram(df_clean).\n",
    "unigram_frequent_words = get_top_n_grams(df_clean['Complaint_clean'], n_gram=1, return_records=30)\n",
    "print(\"Extracted a frequency with a unigram of shape:\", unigram_frequent_words.shape)"
   ]
  },
  {
   "cell_type": "code",
   "execution_count": 22,
   "metadata": {
    "id": "YX7fedm1JrF8"
   },
   "outputs": [
    {
     "data": {
      "text/html": [
       "<div>\n",
       "<style scoped>\n",
       "    .dataframe tbody tr th:only-of-type {\n",
       "        vertical-align: middle;\n",
       "    }\n",
       "\n",
       "    .dataframe tbody tr th {\n",
       "        vertical-align: top;\n",
       "    }\n",
       "\n",
       "    .dataframe thead th {\n",
       "        text-align: right;\n",
       "    }\n",
       "</style>\n",
       "<table border=\"1\" class=\"dataframe\">\n",
       "  <thead>\n",
       "    <tr style=\"text-align: right;\">\n",
       "      <th></th>\n",
       "      <th>Frequency</th>\n",
       "      <th>unigram</th>\n",
       "    </tr>\n",
       "  </thead>\n",
       "  <tbody>\n",
       "    <tr>\n",
       "      <th>0</th>\n",
       "      <td>61867</td>\n",
       "      <td>xxxx</td>\n",
       "    </tr>\n",
       "    <tr>\n",
       "      <th>1</th>\n",
       "      <td>53302</td>\n",
       "      <td>chase</td>\n",
       "    </tr>\n",
       "    <tr>\n",
       "      <th>2</th>\n",
       "      <td>41391</td>\n",
       "      <td>account</td>\n",
       "    </tr>\n",
       "    <tr>\n",
       "      <th>3</th>\n",
       "      <td>39190</td>\n",
       "      <td>xx</td>\n",
       "    </tr>\n",
       "    <tr>\n",
       "      <th>4</th>\n",
       "      <td>32744</td>\n",
       "      <td>credit</td>\n",
       "    </tr>\n",
       "    <tr>\n",
       "      <th>5</th>\n",
       "      <td>26709</td>\n",
       "      <td>bank</td>\n",
       "    </tr>\n",
       "    <tr>\n",
       "      <th>6</th>\n",
       "      <td>26219</td>\n",
       "      <td>card</td>\n",
       "    </tr>\n",
       "    <tr>\n",
       "      <th>7</th>\n",
       "      <td>14014</td>\n",
       "      <td>payment</td>\n",
       "    </tr>\n",
       "    <tr>\n",
       "      <th>8</th>\n",
       "      <td>12018</td>\n",
       "      <td>time</td>\n",
       "    </tr>\n",
       "    <tr>\n",
       "      <th>9</th>\n",
       "      <td>11969</td>\n",
       "      <td>money</td>\n",
       "    </tr>\n",
       "  </tbody>\n",
       "</table>\n",
       "</div>"
      ],
      "text/plain": [
       "   Frequency  unigram\n",
       "0      61867     xxxx\n",
       "1      53302    chase\n",
       "2      41391  account\n",
       "3      39190       xx\n",
       "4      32744   credit\n",
       "5      26709     bank\n",
       "6      26219     card\n",
       "7      14014  payment\n",
       "8      12018     time\n",
       "9      11969    money"
      ]
     },
     "execution_count": 22,
     "metadata": {},
     "output_type": "execute_result"
    }
   ],
   "source": [
    "#Print the top 10 words in the unigram frequency\n",
    "unigram_frequent_words.rename(columns={'1-gram': 'unigram'}, inplace=True)\n",
    "unigram_frequent_words[:10]"
   ]
  },
  {
   "cell_type": "code",
   "execution_count": 23,
   "metadata": {
    "id": "aV7kD7w8JrF8"
   },
   "outputs": [
    {
     "name": "stdout",
     "output_type": "stream",
     "text": [
      "Extracted a frequency with a bigram of shape: (30, 2)\n"
     ]
    }
   ],
   "source": [
    "#Write your code here to find the top 30 bigram frequency among the complaints in the cleaned datafram(df_clean).\n",
    "bigram_frequent_words = get_top_n_grams(df_clean['Complaint_clean'], n_gram=2, return_records=30)\n",
    "print(\"Extracted a frequency with a bigram of shape:\", bigram_frequent_words.shape)"
   ]
  },
  {
   "cell_type": "code",
   "execution_count": 24,
   "metadata": {
    "id": "NPnMNIpyJrF9"
   },
   "outputs": [
    {
     "data": {
      "text/html": [
       "<div>\n",
       "<style scoped>\n",
       "    .dataframe tbody tr th:only-of-type {\n",
       "        vertical-align: middle;\n",
       "    }\n",
       "\n",
       "    .dataframe tbody tr th {\n",
       "        vertical-align: top;\n",
       "    }\n",
       "\n",
       "    .dataframe thead th {\n",
       "        text-align: right;\n",
       "    }\n",
       "</style>\n",
       "<table border=\"1\" class=\"dataframe\">\n",
       "  <thead>\n",
       "    <tr style=\"text-align: right;\">\n",
       "      <th></th>\n",
       "      <th>Frequency</th>\n",
       "      <th>bigram</th>\n",
       "    </tr>\n",
       "  </thead>\n",
       "  <tbody>\n",
       "    <tr>\n",
       "      <th>0</th>\n",
       "      <td>19541</td>\n",
       "      <td>xx xx</td>\n",
       "    </tr>\n",
       "    <tr>\n",
       "      <th>1</th>\n",
       "      <td>14427</td>\n",
       "      <td>xx xxxx</td>\n",
       "    </tr>\n",
       "    <tr>\n",
       "      <th>2</th>\n",
       "      <td>11088</td>\n",
       "      <td>credit card</td>\n",
       "    </tr>\n",
       "    <tr>\n",
       "      <th>3</th>\n",
       "      <td>9576</td>\n",
       "      <td>xxxx xxxx</td>\n",
       "    </tr>\n",
       "    <tr>\n",
       "      <th>4</th>\n",
       "      <td>3523</td>\n",
       "      <td>chase credit</td>\n",
       "    </tr>\n",
       "    <tr>\n",
       "      <th>5</th>\n",
       "      <td>3479</td>\n",
       "      <td>xxxx chase</td>\n",
       "    </tr>\n",
       "    <tr>\n",
       "      <th>6</th>\n",
       "      <td>3283</td>\n",
       "      <td>credit report</td>\n",
       "    </tr>\n",
       "    <tr>\n",
       "      <th>7</th>\n",
       "      <td>3185</td>\n",
       "      <td>chase account</td>\n",
       "    </tr>\n",
       "    <tr>\n",
       "      <th>8</th>\n",
       "      <td>3026</td>\n",
       "      <td>customer service</td>\n",
       "    </tr>\n",
       "    <tr>\n",
       "      <th>9</th>\n",
       "      <td>2942</td>\n",
       "      <td>account chase</td>\n",
       "    </tr>\n",
       "  </tbody>\n",
       "</table>\n",
       "</div>"
      ],
      "text/plain": [
       "   Frequency            bigram\n",
       "0      19541             xx xx\n",
       "1      14427           xx xxxx\n",
       "2      11088       credit card\n",
       "3       9576         xxxx xxxx\n",
       "4       3523      chase credit\n",
       "5       3479        xxxx chase\n",
       "6       3283     credit report\n",
       "7       3185     chase account\n",
       "8       3026  customer service\n",
       "9       2942     account chase"
      ]
     },
     "execution_count": 24,
     "metadata": {},
     "output_type": "execute_result"
    }
   ],
   "source": [
    "#Print the top 10 words in the bigram frequency\n",
    "bigram_frequent_words.rename(columns={'2-gram': 'bigram'}, inplace=True)\n",
    "bigram_frequent_words[:10]"
   ]
  },
  {
   "cell_type": "code",
   "execution_count": 25,
   "metadata": {
    "id": "Xkh7vtbtJrF-"
   },
   "outputs": [
    {
     "name": "stdout",
     "output_type": "stream",
     "text": [
      "Extracted a frequency with a trigram of shape: (30, 2)\n"
     ]
    }
   ],
   "source": [
    "#Write your code here to find the top 30 trigram frequency among the complaints in the cleaned datafram(df_clean).\n",
    "\n",
    "trigram_frequent_words = get_top_n_grams(df_clean['Complaint_clean'], n_gram=3, return_records=30)\n",
    "print(\"Extracted a frequency with a trigram of shape:\", trigram_frequent_words.shape)"
   ]
  },
  {
   "cell_type": "code",
   "execution_count": 26,
   "metadata": {
    "id": "REcVxNfvJrF-"
   },
   "outputs": [
    {
     "data": {
      "text/html": [
       "<div>\n",
       "<style scoped>\n",
       "    .dataframe tbody tr th:only-of-type {\n",
       "        vertical-align: middle;\n",
       "    }\n",
       "\n",
       "    .dataframe tbody tr th {\n",
       "        vertical-align: top;\n",
       "    }\n",
       "\n",
       "    .dataframe thead th {\n",
       "        text-align: right;\n",
       "    }\n",
       "</style>\n",
       "<table border=\"1\" class=\"dataframe\">\n",
       "  <thead>\n",
       "    <tr style=\"text-align: right;\">\n",
       "      <th></th>\n",
       "      <th>Frequency</th>\n",
       "      <th>trigram</th>\n",
       "    </tr>\n",
       "  </thead>\n",
       "  <tbody>\n",
       "    <tr>\n",
       "      <th>0</th>\n",
       "      <td>14141</td>\n",
       "      <td>xx xx xxxx</td>\n",
       "    </tr>\n",
       "    <tr>\n",
       "      <th>1</th>\n",
       "      <td>2241</td>\n",
       "      <td>xxxx xxxx xxxx</td>\n",
       "    </tr>\n",
       "    <tr>\n",
       "      <th>2</th>\n",
       "      <td>1951</td>\n",
       "      <td>chase credit card</td>\n",
       "    </tr>\n",
       "    <tr>\n",
       "      <th>3</th>\n",
       "      <td>1906</td>\n",
       "      <td>xxxx xx xx</td>\n",
       "    </tr>\n",
       "    <tr>\n",
       "      <th>4</th>\n",
       "      <td>1167</td>\n",
       "      <td>account xx xx</td>\n",
       "    </tr>\n",
       "    <tr>\n",
       "      <th>5</th>\n",
       "      <td>1136</td>\n",
       "      <td>xx xxxx chase</td>\n",
       "    </tr>\n",
       "    <tr>\n",
       "      <th>6</th>\n",
       "      <td>850</td>\n",
       "      <td>credit card account</td>\n",
       "    </tr>\n",
       "    <tr>\n",
       "      <th>7</th>\n",
       "      <td>845</td>\n",
       "      <td>xx xxxx xx</td>\n",
       "    </tr>\n",
       "    <tr>\n",
       "      <th>8</th>\n",
       "      <td>819</td>\n",
       "      <td>credit card company</td>\n",
       "    </tr>\n",
       "    <tr>\n",
       "      <th>9</th>\n",
       "      <td>806</td>\n",
       "      <td>chase xx xx</td>\n",
       "    </tr>\n",
       "  </tbody>\n",
       "</table>\n",
       "</div>"
      ],
      "text/plain": [
       "   Frequency              trigram\n",
       "0      14141           xx xx xxxx\n",
       "1       2241       xxxx xxxx xxxx\n",
       "2       1951    chase credit card\n",
       "3       1906           xxxx xx xx\n",
       "4       1167        account xx xx\n",
       "5       1136        xx xxxx chase\n",
       "6        850  credit card account\n",
       "7        845           xx xxxx xx\n",
       "8        819  credit card company\n",
       "9        806          chase xx xx"
      ]
     },
     "execution_count": 26,
     "metadata": {},
     "output_type": "execute_result"
    }
   ],
   "source": [
    "#Print the top 10 words in the trigram frequency\n",
    "trigram_frequent_words.rename(columns={'3-gram': 'trigram'}, inplace=True)\n",
    "trigram_frequent_words[:10]"
   ]
  },
  {
   "cell_type": "markdown",
   "metadata": {
    "id": "yUXzFji0JrF_"
   },
   "source": [
    "## The personal details of customer has been masked in the dataset with xxxx. Let's remove the masked text as this will be of no use for our analysis"
   ]
  },
  {
   "cell_type": "code",
   "execution_count": 27,
   "metadata": {
    "id": "wKda-a_IJrF_"
   },
   "outputs": [],
   "source": [
    "df_clean['Complaint_clean'] = df_clean['Complaint_clean'].str.replace('xxxx','')"
   ]
  },
  {
   "cell_type": "code",
   "execution_count": 28,
   "metadata": {
    "id": "9UIFk8fQJrF_"
   },
   "outputs": [
    {
     "data": {
      "text/html": [
       "<div>\n",
       "<style scoped>\n",
       "    .dataframe tbody tr th:only-of-type {\n",
       "        vertical-align: middle;\n",
       "    }\n",
       "\n",
       "    .dataframe tbody tr th {\n",
       "        vertical-align: top;\n",
       "    }\n",
       "\n",
       "    .dataframe thead th {\n",
       "        text-align: right;\n",
       "    }\n",
       "</style>\n",
       "<table border=\"1\" class=\"dataframe\">\n",
       "  <thead>\n",
       "    <tr style=\"text-align: right;\">\n",
       "      <th></th>\n",
       "      <th>complaint_what_happened</th>\n",
       "      <th>complaint_lemmatized</th>\n",
       "      <th>complaint_POS_removed</th>\n",
       "      <th>Complaint_clean</th>\n",
       "    </tr>\n",
       "  </thead>\n",
       "  <tbody>\n",
       "    <tr>\n",
       "      <th>1</th>\n",
       "      <td>good morning my name is xxxx xxxx and i apprec...</td>\n",
       "      <td>good morning my name be xxxx xxxx and I apprec...</td>\n",
       "      <td>morning name stop bank cardmember debt verific...</td>\n",
       "      <td>morning name stop bank cardmember debt verific...</td>\n",
       "    </tr>\n",
       "    <tr>\n",
       "      <th>2</th>\n",
       "      <td>i upgraded my xxxx xxxx card in xx/xx/ and was...</td>\n",
       "      <td>I upgrade my xxxx xxxx card in xx / xx/ and be...</td>\n",
       "      <td>i card agent upgrade date agent information or...</td>\n",
       "      <td>i card agent upgrade date agent information or...</td>\n",
       "    </tr>\n",
       "    <tr>\n",
       "      <th>10</th>\n",
       "      <td>chase card was reported on xx/xx/. however, fr...</td>\n",
       "      <td>chase card be report on xx / xx/. however , fr...</td>\n",
       "      <td>card xx/xx/ application identity consent credi...</td>\n",
       "      <td>card xx/xx/ application identity consent credi...</td>\n",
       "    </tr>\n",
       "    <tr>\n",
       "      <th>11</th>\n",
       "      <td>on xx/xx/, while trying to book a xxxx  xxxx  ...</td>\n",
       "      <td>on xx / xx/ , while try to book a xxxx   xxxx ...</td>\n",
       "      <td>book xxxx ticket i offer ticket card i informa...</td>\n",
       "      <td>book  ticket i offer ticket card i information...</td>\n",
       "    </tr>\n",
       "    <tr>\n",
       "      <th>14</th>\n",
       "      <td>my grand son give me check for {$.} i deposit ...</td>\n",
       "      <td>my grand son give I check for { $ . } I deposi...</td>\n",
       "      <td>son deposit chase account fund chase bank acco...</td>\n",
       "      <td>son deposit chase account fund chase bank acco...</td>\n",
       "    </tr>\n",
       "    <tr>\n",
       "      <th>...</th>\n",
       "      <td>...</td>\n",
       "      <td>...</td>\n",
       "      <td>...</td>\n",
       "      <td>...</td>\n",
       "    </tr>\n",
       "    <tr>\n",
       "      <th>78303</th>\n",
       "      <td>after being a chase card customer for well ove...</td>\n",
       "      <td>after be a chase card customer for well over a...</td>\n",
       "      <td>chase card customer decade credit airline hote...</td>\n",
       "      <td>chase card customer decade credit airline hote...</td>\n",
       "    </tr>\n",
       "    <tr>\n",
       "      <th>78309</th>\n",
       "      <td>on wednesday, xx/xx/xxxx i called chas, my xxx...</td>\n",
       "      <td>on wednesday , xx / xx / xxxx I call chas , my...</td>\n",
       "      <td>wednesday xx/xx/xxxx i chas visa credit card p...</td>\n",
       "      <td>wednesday xx/xx/ i chas visa credit card provi...</td>\n",
       "    </tr>\n",
       "    <tr>\n",
       "      <th>78310</th>\n",
       "      <td>i am not familiar with xxxx pay and did not un...</td>\n",
       "      <td>I be not familiar with xxxx pay and do not und...</td>\n",
       "      <td>i pay risk i bank app chase mobile banking i m...</td>\n",
       "      <td>i pay risk i bank app chase mobile banking i m...</td>\n",
       "    </tr>\n",
       "    <tr>\n",
       "      <th>78311</th>\n",
       "      <td>i have had flawless credit for  yrs. i've had ...</td>\n",
       "      <td>I have have flawless credit for   yrs . I have...</td>\n",
       "      <td>i credit yrs credit chase freedom xxxx balance...</td>\n",
       "      <td>i credit yrs credit chase freedom  balance lif...</td>\n",
       "    </tr>\n",
       "    <tr>\n",
       "      <th>78312</th>\n",
       "      <td>roughly + years ago i closed out my accounts w...</td>\n",
       "      <td>roughly + year ago I close out my account with...</td>\n",
       "      <td>jp bank xxxx order line credit i i account pay...</td>\n",
       "      <td>jp bank  order line credit i i account payment...</td>\n",
       "    </tr>\n",
       "  </tbody>\n",
       "</table>\n",
       "<p>21072 rows × 4 columns</p>\n",
       "</div>"
      ],
      "text/plain": [
       "                                 complaint_what_happened  \\\n",
       "1      good morning my name is xxxx xxxx and i apprec...   \n",
       "2      i upgraded my xxxx xxxx card in xx/xx/ and was...   \n",
       "10     chase card was reported on xx/xx/. however, fr...   \n",
       "11     on xx/xx/, while trying to book a xxxx  xxxx  ...   \n",
       "14     my grand son give me check for {$.} i deposit ...   \n",
       "...                                                  ...   \n",
       "78303  after being a chase card customer for well ove...   \n",
       "78309  on wednesday, xx/xx/xxxx i called chas, my xxx...   \n",
       "78310  i am not familiar with xxxx pay and did not un...   \n",
       "78311  i have had flawless credit for  yrs. i've had ...   \n",
       "78312  roughly + years ago i closed out my accounts w...   \n",
       "\n",
       "                                    complaint_lemmatized  \\\n",
       "1      good morning my name be xxxx xxxx and I apprec...   \n",
       "2      I upgrade my xxxx xxxx card in xx / xx/ and be...   \n",
       "10     chase card be report on xx / xx/. however , fr...   \n",
       "11     on xx / xx/ , while try to book a xxxx   xxxx ...   \n",
       "14     my grand son give I check for { $ . } I deposi...   \n",
       "...                                                  ...   \n",
       "78303  after be a chase card customer for well over a...   \n",
       "78309  on wednesday , xx / xx / xxxx I call chas , my...   \n",
       "78310  I be not familiar with xxxx pay and do not und...   \n",
       "78311  I have have flawless credit for   yrs . I have...   \n",
       "78312  roughly + year ago I close out my account with...   \n",
       "\n",
       "                                   complaint_POS_removed  \\\n",
       "1      morning name stop bank cardmember debt verific...   \n",
       "2      i card agent upgrade date agent information or...   \n",
       "10     card xx/xx/ application identity consent credi...   \n",
       "11     book xxxx ticket i offer ticket card i informa...   \n",
       "14     son deposit chase account fund chase bank acco...   \n",
       "...                                                  ...   \n",
       "78303  chase card customer decade credit airline hote...   \n",
       "78309  wednesday xx/xx/xxxx i chas visa credit card p...   \n",
       "78310  i pay risk i bank app chase mobile banking i m...   \n",
       "78311  i credit yrs credit chase freedom xxxx balance...   \n",
       "78312  jp bank xxxx order line credit i i account pay...   \n",
       "\n",
       "                                         Complaint_clean  \n",
       "1      morning name stop bank cardmember debt verific...  \n",
       "2      i card agent upgrade date agent information or...  \n",
       "10     card xx/xx/ application identity consent credi...  \n",
       "11     book  ticket i offer ticket card i information...  \n",
       "14     son deposit chase account fund chase bank acco...  \n",
       "...                                                  ...  \n",
       "78303  chase card customer decade credit airline hote...  \n",
       "78309  wednesday xx/xx/ i chas visa credit card provi...  \n",
       "78310  i pay risk i bank app chase mobile banking i m...  \n",
       "78311  i credit yrs credit chase freedom  balance lif...  \n",
       "78312  jp bank  order line credit i i account payment...  \n",
       "\n",
       "[21072 rows x 4 columns]"
      ]
     },
     "execution_count": 28,
     "metadata": {},
     "output_type": "execute_result"
    }
   ],
   "source": [
    "#All masked texts has been removed\n",
    "df_clean"
   ]
  },
  {
   "cell_type": "markdown",
   "metadata": {
    "id": "k-I0k0QtJrGA"
   },
   "source": [
    "## Feature Extraction\n",
    "Convert the raw texts to a matrix of TF-IDF features\n",
    "\n",
    "**max_df** is used for removing terms that appear too frequently, also known as \"corpus-specific stop words\"\n",
    "max_df = 0.95 means \"ignore terms that appear in more than 95% of the complaints\"\n",
    "\n",
    "**min_df** is used for removing terms that appear too infrequently\n",
    "min_df = 2 means \"ignore terms that appear in less than 2 complaints\""
   ]
  },
  {
   "cell_type": "code",
   "execution_count": 29,
   "metadata": {
    "id": "Y8fGwaCPJrGA"
   },
   "outputs": [],
   "source": [
    "#Write your code here to initialise the TfidfVectorizer\n",
    "\n",
    "tfidf = TfidfVectorizer(max_df=0.95, min_df=2, stop_words='english')"
   ]
  },
  {
   "cell_type": "markdown",
   "metadata": {
    "id": "yYzD85nTJrGA"
   },
   "source": [
    "#### Create a document term matrix using fit_transform\n",
    "\n",
    "The contents of a document term matrix are tuples of (complaint_id,token_id) tf-idf score:\n",
    "The tuples that are not there have a tf-idf score of 0"
   ]
  },
  {
   "cell_type": "code",
   "execution_count": 30,
   "metadata": {
    "id": "ffzdDpp_JrGB"
   },
   "outputs": [
    {
     "data": {
      "text/plain": [
       "<21072x6524 sparse matrix of type '<class 'numpy.float64'>'\n",
       "\twith 510452 stored elements in Compressed Sparse Row format>"
      ]
     },
     "execution_count": 30,
     "metadata": {},
     "output_type": "execute_result"
    }
   ],
   "source": [
    "#Write your code here to create the Document Term Matrix by transforming the complaints column present in df_clean.\n",
    "document_term_matrix = tfidf.fit_transform(df_clean['Complaint_clean'])\n",
    "document_term_matrix"
   ]
  },
  {
   "cell_type": "markdown",
   "metadata": {
    "id": "7Q9lwvNEJrGB"
   },
   "source": [
    "## Topic Modelling using NMF\n",
    "\n",
    "Non-Negative Matrix Factorization (NMF) is an unsupervised technique so there are no labeling of topics that the model will be trained on. The way it works is that, NMF decomposes (or factorizes) high-dimensional vectors into a lower-dimensional representation. These lower-dimensional vectors are non-negative which also means their coefficients are non-negative.\n",
    "\n",
    "In this task you have to perform the following:\n",
    "\n",
    "* Find the best number of clusters \n",
    "* Apply the best number to create word clusters\n",
    "* Inspect & validate the correction of each cluster wrt the complaints \n",
    "* Correct the labels if needed \n",
    "* Map the clusters to topics/cluster names"
   ]
  },
  {
   "cell_type": "code",
   "execution_count": 31,
   "metadata": {
    "id": "amLT4omWJrGB"
   },
   "outputs": [],
   "source": [
    "from sklearn.decomposition import NMF"
   ]
  },
  {
   "cell_type": "markdown",
   "metadata": {
    "id": "0wYR1xUTJrGD"
   },
   "source": [
    "## Manual Topic Modeling\n",
    "You need to do take the trial & error approach to find the best num of topics for your NMF model.\n",
    "\n",
    "The only parameter that is required is the number of components i.e. the number of topics we want. This is the most crucial step in the whole topic modeling process and will greatly affect how good your final topics are."
   ]
  },
  {
   "cell_type": "code",
   "execution_count": 32,
   "metadata": {
    "id": "sgd2A6bhJrGD"
   },
   "outputs": [],
   "source": [
    "#Load your nmf_model with the n_components i.e 5\n",
    "num_topics = 5 #write the value you want to test out\n",
    "\n",
    "#keep the random_state =40\n",
    "nmf_model =NMF(n_components=num_topics, random_state=40) #write your code here"
   ]
  },
  {
   "cell_type": "code",
   "execution_count": 33,
   "metadata": {
    "id": "VPMDYbt_JrGE"
   },
   "outputs": [
    {
     "name": "stderr",
     "output_type": "stream",
     "text": [
      "C:\\Program Files\\Python39\\lib\\site-packages\\sklearn\\decomposition\\_nmf.py:312: FutureWarning:\n",
      "\n",
      "The 'init' value, when 'init=None' and n_components is less than n_samples and n_features, will be changed from 'nndsvd' to 'nndsvda' in 1.1 (renaming of 0.26).\n",
      "\n"
     ]
    },
    {
     "data": {
      "text/plain": [
       "6524"
      ]
     },
     "execution_count": 33,
     "metadata": {},
     "output_type": "execute_result"
    }
   ],
   "source": [
    "nmf_model.fit(document_term_matrix)\n",
    "len(tfidf.get_feature_names())"
   ]
  },
  {
   "cell_type": "code",
   "execution_count": 34,
   "metadata": {
    "id": "16kRfat5JrGE"
   },
   "outputs": [
    {
     "name": "stdout",
     "output_type": "stream",
     "text": [
      "Top 15 words in the Topic: 1\n",
      "['day', 'customer', 'transaction', 'balance', 'fraud', 'business', 'number', 'checking', 'deposit', 'branch', 'chase', 'check', 'money', 'bank', 'account']\n",
      "Top 15 words in the Topic: 2\n",
      "['phone', 'statement', 'service', 'purchase', 'customer', 'time', 'dispute', 'company', 'fee', 'fraud', 'balance', 'charge', 'credit', 'chase', 'card']\n",
      "Top 15 words in the Topic: 3\n",
      "['response', 'department', 'statement', 'transaction', 'email', 'payment', 'merchant', 'refund', 'date', 'claim', 'charge', 'letter', 'dispute', 'chase', 'xx']\n",
      "Top 15 words in the Topic: 4\n",
      "['letter', 'sale', 'bank', 'house', 'foreclosure', 'month', 'rate', 'property', 'time', 'modification', 'home', 'chase', 'mortgage', 'payment', 'loan']\n",
      "Top 15 words in the Topic: 5\n",
      "['history', 'payment', 'company', 'theft', 'limit', 'identity', 'account', 'bureaus', 'information', 'reporting', 'debt', 'score', 'inquiry', 'report', 'credit']\n"
     ]
    }
   ],
   "source": [
    "#Print the Top15 words for each of the topics\n",
    "for index, topic in enumerate(nmf_model.components_):\n",
    "    print(\"Top 15 words in the Topic:\", (index+1))\n",
    "    print([tfidf.get_feature_names()[i] for i in topic.argsort()[-15:]])\n"
   ]
  },
  {
   "cell_type": "code",
   "execution_count": 35,
   "metadata": {
    "id": "0OIT7LmFJrGF"
   },
   "outputs": [
    {
     "data": {
      "text/plain": [
       "array([0, 2, 2, ..., 0, 2, 3], dtype=int64)"
      ]
     },
     "execution_count": 35,
     "metadata": {},
     "output_type": "execute_result"
    }
   ],
   "source": [
    "#Create the best topic for each complaint in terms of integer value 0,1,2,3 & 4\n",
    "topic_results = nmf_model.transform(document_term_matrix)\n",
    "\n",
    "topic_results[0].round(2)\n",
    "topic_results[0].argmax()\n",
    "topic_results.argmax(axis=1)\n"
   ]
  },
  {
   "cell_type": "code",
   "execution_count": 36,
   "metadata": {
    "id": "peyYv-ORJrGF"
   },
   "outputs": [],
   "source": [
    "#Assign the best topic to each of the cmplaints in Topic Column\n",
    "\n",
    "df_clean['Topic'] = topic_results.argmax(axis=1) #write your code to assign topics to each rows."
   ]
  },
  {
   "cell_type": "code",
   "execution_count": 37,
   "metadata": {
    "id": "fLh_Gf3nJrGF"
   },
   "outputs": [
    {
     "data": {
      "text/html": [
       "<div>\n",
       "<style scoped>\n",
       "    .dataframe tbody tr th:only-of-type {\n",
       "        vertical-align: middle;\n",
       "    }\n",
       "\n",
       "    .dataframe tbody tr th {\n",
       "        vertical-align: top;\n",
       "    }\n",
       "\n",
       "    .dataframe thead th {\n",
       "        text-align: right;\n",
       "    }\n",
       "</style>\n",
       "<table border=\"1\" class=\"dataframe\">\n",
       "  <thead>\n",
       "    <tr style=\"text-align: right;\">\n",
       "      <th></th>\n",
       "      <th>complaint_what_happened</th>\n",
       "      <th>complaint_lemmatized</th>\n",
       "      <th>complaint_POS_removed</th>\n",
       "      <th>Complaint_clean</th>\n",
       "      <th>Topic</th>\n",
       "    </tr>\n",
       "  </thead>\n",
       "  <tbody>\n",
       "    <tr>\n",
       "      <th>1</th>\n",
       "      <td>good morning my name is xxxx xxxx and i apprec...</td>\n",
       "      <td>good morning my name be xxxx xxxx and I apprec...</td>\n",
       "      <td>morning name stop bank cardmember debt verific...</td>\n",
       "      <td>morning name stop bank cardmember debt verific...</td>\n",
       "      <td>0</td>\n",
       "    </tr>\n",
       "    <tr>\n",
       "      <th>2</th>\n",
       "      <td>i upgraded my xxxx xxxx card in xx/xx/ and was...</td>\n",
       "      <td>I upgrade my xxxx xxxx card in xx / xx/ and be...</td>\n",
       "      <td>i card agent upgrade date agent information or...</td>\n",
       "      <td>i card agent upgrade date agent information or...</td>\n",
       "      <td>2</td>\n",
       "    </tr>\n",
       "    <tr>\n",
       "      <th>10</th>\n",
       "      <td>chase card was reported on xx/xx/. however, fr...</td>\n",
       "      <td>chase card be report on xx / xx/. however , fr...</td>\n",
       "      <td>card xx/xx/ application identity consent credi...</td>\n",
       "      <td>card xx/xx/ application identity consent credi...</td>\n",
       "      <td>2</td>\n",
       "    </tr>\n",
       "    <tr>\n",
       "      <th>11</th>\n",
       "      <td>on xx/xx/, while trying to book a xxxx  xxxx  ...</td>\n",
       "      <td>on xx / xx/ , while try to book a xxxx   xxxx ...</td>\n",
       "      <td>book xxxx ticket i offer ticket card i informa...</td>\n",
       "      <td>book  ticket i offer ticket card i information...</td>\n",
       "      <td>4</td>\n",
       "    </tr>\n",
       "    <tr>\n",
       "      <th>14</th>\n",
       "      <td>my grand son give me check for {$.} i deposit ...</td>\n",
       "      <td>my grand son give I check for { $ . } I deposi...</td>\n",
       "      <td>son deposit chase account fund chase bank acco...</td>\n",
       "      <td>son deposit chase account fund chase bank acco...</td>\n",
       "      <td>0</td>\n",
       "    </tr>\n",
       "  </tbody>\n",
       "</table>\n",
       "</div>"
      ],
      "text/plain": [
       "                              complaint_what_happened  \\\n",
       "1   good morning my name is xxxx xxxx and i apprec...   \n",
       "2   i upgraded my xxxx xxxx card in xx/xx/ and was...   \n",
       "10  chase card was reported on xx/xx/. however, fr...   \n",
       "11  on xx/xx/, while trying to book a xxxx  xxxx  ...   \n",
       "14  my grand son give me check for {$.} i deposit ...   \n",
       "\n",
       "                                 complaint_lemmatized  \\\n",
       "1   good morning my name be xxxx xxxx and I apprec...   \n",
       "2   I upgrade my xxxx xxxx card in xx / xx/ and be...   \n",
       "10  chase card be report on xx / xx/. however , fr...   \n",
       "11  on xx / xx/ , while try to book a xxxx   xxxx ...   \n",
       "14  my grand son give I check for { $ . } I deposi...   \n",
       "\n",
       "                                complaint_POS_removed  \\\n",
       "1   morning name stop bank cardmember debt verific...   \n",
       "2   i card agent upgrade date agent information or...   \n",
       "10  card xx/xx/ application identity consent credi...   \n",
       "11  book xxxx ticket i offer ticket card i informa...   \n",
       "14  son deposit chase account fund chase bank acco...   \n",
       "\n",
       "                                      Complaint_clean  Topic  \n",
       "1   morning name stop bank cardmember debt verific...      0  \n",
       "2   i card agent upgrade date agent information or...      2  \n",
       "10  card xx/xx/ application identity consent credi...      2  \n",
       "11  book  ticket i offer ticket card i information...      4  \n",
       "14  son deposit chase account fund chase bank acco...      0  "
      ]
     },
     "execution_count": 37,
     "metadata": {},
     "output_type": "execute_result"
    }
   ],
   "source": [
    "df_clean.head()"
   ]
  },
  {
   "cell_type": "code",
   "execution_count": 38,
   "metadata": {
    "id": "aQKpufSPJrGG"
   },
   "outputs": [
    {
     "data": {
      "text/html": [
       "<div>\n",
       "<style scoped>\n",
       "    .dataframe tbody tr th:only-of-type {\n",
       "        vertical-align: middle;\n",
       "    }\n",
       "\n",
       "    .dataframe tbody tr th {\n",
       "        vertical-align: top;\n",
       "    }\n",
       "\n",
       "    .dataframe thead th {\n",
       "        text-align: right;\n",
       "    }\n",
       "</style>\n",
       "<table border=\"1\" class=\"dataframe\">\n",
       "  <thead>\n",
       "    <tr style=\"text-align: right;\">\n",
       "      <th></th>\n",
       "      <th>complaint_what_happened</th>\n",
       "      <th>complaint_lemmatized</th>\n",
       "      <th>complaint_POS_removed</th>\n",
       "      <th>Complaint_clean</th>\n",
       "      <th>Topic</th>\n",
       "    </tr>\n",
       "  </thead>\n",
       "  <tbody>\n",
       "    <tr>\n",
       "      <th>1</th>\n",
       "      <td>good morning my name is xxxx xxxx and i apprec...</td>\n",
       "      <td>good morning my name be xxxx xxxx and I apprec...</td>\n",
       "      <td>morning name stop bank cardmember debt verific...</td>\n",
       "      <td>morning name stop bank cardmember debt verific...</td>\n",
       "      <td>0</td>\n",
       "    </tr>\n",
       "    <tr>\n",
       "      <th>14</th>\n",
       "      <td>my grand son give me check for {$.} i deposit ...</td>\n",
       "      <td>my grand son give I check for { $ . } I deposi...</td>\n",
       "      <td>son deposit chase account fund chase bank acco...</td>\n",
       "      <td>son deposit chase account fund chase bank acco...</td>\n",
       "      <td>0</td>\n",
       "    </tr>\n",
       "    <tr>\n",
       "      <th>17</th>\n",
       "      <td>with out notice j.p. morgan chase restricted m...</td>\n",
       "      <td>with out notice j.p . morgan chase restrict my...</td>\n",
       "      <td>j.p. chase account debit card tuesday i branch...</td>\n",
       "      <td>j.p. chase account debit card tuesday i branch...</td>\n",
       "      <td>0</td>\n",
       "    </tr>\n",
       "    <tr>\n",
       "      <th>24</th>\n",
       "      <td>mishandling of this account by chase auto and ...</td>\n",
       "      <td>mishandle of this account by chase auto and xx...</td>\n",
       "      <td>mishandling account auto xxxx</td>\n",
       "      <td>mishandling account auto</td>\n",
       "      <td>0</td>\n",
       "    </tr>\n",
       "    <tr>\n",
       "      <th>21</th>\n",
       "      <td>on xxxx xx/xx/, i made a {$.} payment to an on...</td>\n",
       "      <td>on xxxx xx / xx/ , I make a { $ . } payment to...</td>\n",
       "      <td>i payment retailer pay xxxx chase website webs...</td>\n",
       "      <td>i payment retailer pay  chase website website ...</td>\n",
       "      <td>0</td>\n",
       "    </tr>\n",
       "    <tr>\n",
       "      <th>59</th>\n",
       "      <td>i currently have over xxxx chase ultimate rewa...</td>\n",
       "      <td>I currently have over xxxx chase ultimate rewa...</td>\n",
       "      <td>chase i access chase % bonus chase freedom i p...</td>\n",
       "      <td>chase i access chase % bonus chase freedom i p...</td>\n",
       "      <td>1</td>\n",
       "    </tr>\n",
       "    <tr>\n",
       "      <th>52</th>\n",
       "      <td>my roommate was stealing my chase debit card a...</td>\n",
       "      <td>my roommate be steal my chase debit card and d...</td>\n",
       "      <td>roommate chase debit card money account pin ph...</td>\n",
       "      <td>roommate chase debit card money account pin ph...</td>\n",
       "      <td>1</td>\n",
       "    </tr>\n",
       "    <tr>\n",
       "      <th>50</th>\n",
       "      <td>i am a senior citizen that has been scammed by...</td>\n",
       "      <td>I be a senior citizen that have be scamme by s...</td>\n",
       "      <td>i citizen xxxx time share nothing refund credi...</td>\n",
       "      <td>i citizen  time share nothing refund credit ca...</td>\n",
       "      <td>1</td>\n",
       "    </tr>\n",
       "    <tr>\n",
       "      <th>40</th>\n",
       "      <td>xxxx xxxx a sofa, love seat, table and chairs ...</td>\n",
       "      <td>xxxx xxxx a sofa , love seat , table and chair...</td>\n",
       "      <td>xxxx sofa seat table debit card bank claim fur...</td>\n",
       "      <td>sofa seat table debit card bank claim furnitu...</td>\n",
       "      <td>1</td>\n",
       "    </tr>\n",
       "    <tr>\n",
       "      <th>32</th>\n",
       "      <td>my chase amazon card was declined for a cateri...</td>\n",
       "      <td>my chase amazon card be decline for a catering...</td>\n",
       "      <td>chase card catering order i amount chase today...</td>\n",
       "      <td>chase card catering order i amount chase today...</td>\n",
       "      <td>1</td>\n",
       "    </tr>\n",
       "    <tr>\n",
       "      <th>35</th>\n",
       "      <td>i opened the saving account for the {$.} bonus...</td>\n",
       "      <td>I open the save account for the { $ . } bonus ...</td>\n",
       "      <td>i account bonus i bonus auto notice xx/xx/ tra...</td>\n",
       "      <td>i account bonus i bonus auto notice xx/xx/ tra...</td>\n",
       "      <td>2</td>\n",
       "    </tr>\n",
       "    <tr>\n",
       "      <th>48</th>\n",
       "      <td>jp morgan chase bank, please answer the follow...</td>\n",
       "      <td>jp morgan chase bank , please answer the follo...</td>\n",
       "      <td>jp bank xx/xx/xxxx chase information reason in...</td>\n",
       "      <td>jp bank xx/xx/ chase information reason inform...</td>\n",
       "      <td>2</td>\n",
       "    </tr>\n",
       "    <tr>\n",
       "      <th>10</th>\n",
       "      <td>chase card was reported on xx/xx/. however, fr...</td>\n",
       "      <td>chase card be report on xx / xx/. however , fr...</td>\n",
       "      <td>card xx/xx/ application identity consent credi...</td>\n",
       "      <td>card xx/xx/ application identity consent credi...</td>\n",
       "      <td>2</td>\n",
       "    </tr>\n",
       "    <tr>\n",
       "      <th>58</th>\n",
       "      <td>i made a purchase of {$.} on xx/xx/xxxx. i mad...</td>\n",
       "      <td>I make a purchase of { $ . } on xx / xx / xxxx...</td>\n",
       "      <td>i purchase xx/xx/xxxx i xx/xx/xxxx xx/xx/xxxx ...</td>\n",
       "      <td>i purchase xx/xx/ i xx/xx/ xx/xx/ payment clos...</td>\n",
       "      <td>2</td>\n",
       "    </tr>\n",
       "    <tr>\n",
       "      <th>2</th>\n",
       "      <td>i upgraded my xxxx xxxx card in xx/xx/ and was...</td>\n",
       "      <td>I upgrade my xxxx xxxx card in xx / xx/ and be...</td>\n",
       "      <td>i card agent upgrade date agent information or...</td>\n",
       "      <td>i card agent upgrade date agent information or...</td>\n",
       "      <td>2</td>\n",
       "    </tr>\n",
       "    <tr>\n",
       "      <th>20</th>\n",
       "      <td>during the summer months, i experience a decli...</td>\n",
       "      <td>during the summer month , I experience a decli...</td>\n",
       "      <td>summer income employment month payment extensi...</td>\n",
       "      <td>summer income employment month payment extensi...</td>\n",
       "      <td>3</td>\n",
       "    </tr>\n",
       "    <tr>\n",
       "      <th>127</th>\n",
       "      <td>i am xxxx military member ( xxxx ) with the xx...</td>\n",
       "      <td>I be xxxx military member ( xxxx ) with the xx...</td>\n",
       "      <td>i member auto finance gap insurance/waiver cov...</td>\n",
       "      <td>i member auto finance gap insurance/waiver cov...</td>\n",
       "      <td>3</td>\n",
       "    </tr>\n",
       "    <tr>\n",
       "      <th>57</th>\n",
       "      <td>i have been trying to do a loan modification w...</td>\n",
       "      <td>I have be try to do a loan modification with c...</td>\n",
       "      <td>loan modification chase runaround i mo</td>\n",
       "      <td>loan modification chase runaround i mo</td>\n",
       "      <td>3</td>\n",
       "    </tr>\n",
       "    <tr>\n",
       "      <th>99</th>\n",
       "      <td>my name is xxxx xxxx. i have missed a payment ...</td>\n",
       "      <td>my name be xxxx xxxx . I have miss a payment i...</td>\n",
       "      <td>name i payment xx/xx/ i loan modification loss...</td>\n",
       "      <td>name i payment xx/xx/ i loan modification loss...</td>\n",
       "      <td>3</td>\n",
       "    </tr>\n",
       "    <tr>\n",
       "      <th>156</th>\n",
       "      <td>chase issued a mortgage loan against my proper...</td>\n",
       "      <td>chase issue a mortgage loan against my propert...</td>\n",
       "      <td>chase mortgage loan property i home insurance ...</td>\n",
       "      <td>chase mortgage loan property i home insurance ...</td>\n",
       "      <td>3</td>\n",
       "    </tr>\n",
       "    <tr>\n",
       "      <th>26</th>\n",
       "      <td>i have reached out to xxxx several times in at...</td>\n",
       "      <td>I have reach out to xxxx several time in attem...</td>\n",
       "      <td>attempt inquiry i creditor inquiry report bank...</td>\n",
       "      <td>attempt inquiry i creditor inquiry report bank...</td>\n",
       "      <td>4</td>\n",
       "    </tr>\n",
       "    <tr>\n",
       "      <th>15</th>\n",
       "      <td>can you please remove inquiry</td>\n",
       "      <td>can you please remove inquiry</td>\n",
       "      <td>inquiry</td>\n",
       "      <td>inquiry</td>\n",
       "      <td>4</td>\n",
       "    </tr>\n",
       "    <tr>\n",
       "      <th>11</th>\n",
       "      <td>on xx/xx/, while trying to book a xxxx  xxxx  ...</td>\n",
       "      <td>on xx / xx/ , while try to book a xxxx   xxxx ...</td>\n",
       "      <td>book xxxx ticket i offer ticket card i informa...</td>\n",
       "      <td>book  ticket i offer ticket card i information...</td>\n",
       "      <td>4</td>\n",
       "    </tr>\n",
       "    <tr>\n",
       "      <th>82</th>\n",
       "      <td>i recently called to ask chase bank why they r...</td>\n",
       "      <td>I recently call to ask chase bank why they rep...</td>\n",
       "      <td>i bank credit bureau i payment i i info xxxx x...</td>\n",
       "      <td>i bank credit bureau i payment i i info  xx/xx...</td>\n",
       "      <td>4</td>\n",
       "    </tr>\n",
       "    <tr>\n",
       "      <th>23</th>\n",
       "      <td>i have a chase credit card which is incorrectl...</td>\n",
       "      <td>I have a chase credit card which be incorrectl...</td>\n",
       "      <td>chase credit card credit report company issue</td>\n",
       "      <td>chase credit card credit report company issue</td>\n",
       "      <td>4</td>\n",
       "    </tr>\n",
       "  </tbody>\n",
       "</table>\n",
       "</div>"
      ],
      "text/plain": [
       "                               complaint_what_happened  \\\n",
       "1    good morning my name is xxxx xxxx and i apprec...   \n",
       "14   my grand son give me check for {$.} i deposit ...   \n",
       "17   with out notice j.p. morgan chase restricted m...   \n",
       "24   mishandling of this account by chase auto and ...   \n",
       "21   on xxxx xx/xx/, i made a {$.} payment to an on...   \n",
       "59   i currently have over xxxx chase ultimate rewa...   \n",
       "52   my roommate was stealing my chase debit card a...   \n",
       "50   i am a senior citizen that has been scammed by...   \n",
       "40   xxxx xxxx a sofa, love seat, table and chairs ...   \n",
       "32   my chase amazon card was declined for a cateri...   \n",
       "35   i opened the saving account for the {$.} bonus...   \n",
       "48   jp morgan chase bank, please answer the follow...   \n",
       "10   chase card was reported on xx/xx/. however, fr...   \n",
       "58   i made a purchase of {$.} on xx/xx/xxxx. i mad...   \n",
       "2    i upgraded my xxxx xxxx card in xx/xx/ and was...   \n",
       "20   during the summer months, i experience a decli...   \n",
       "127  i am xxxx military member ( xxxx ) with the xx...   \n",
       "57   i have been trying to do a loan modification w...   \n",
       "99   my name is xxxx xxxx. i have missed a payment ...   \n",
       "156  chase issued a mortgage loan against my proper...   \n",
       "26   i have reached out to xxxx several times in at...   \n",
       "15                       can you please remove inquiry   \n",
       "11   on xx/xx/, while trying to book a xxxx  xxxx  ...   \n",
       "82   i recently called to ask chase bank why they r...   \n",
       "23   i have a chase credit card which is incorrectl...   \n",
       "\n",
       "                                  complaint_lemmatized  \\\n",
       "1    good morning my name be xxxx xxxx and I apprec...   \n",
       "14   my grand son give I check for { $ . } I deposi...   \n",
       "17   with out notice j.p . morgan chase restrict my...   \n",
       "24   mishandle of this account by chase auto and xx...   \n",
       "21   on xxxx xx / xx/ , I make a { $ . } payment to...   \n",
       "59   I currently have over xxxx chase ultimate rewa...   \n",
       "52   my roommate be steal my chase debit card and d...   \n",
       "50   I be a senior citizen that have be scamme by s...   \n",
       "40   xxxx xxxx a sofa , love seat , table and chair...   \n",
       "32   my chase amazon card be decline for a catering...   \n",
       "35   I open the save account for the { $ . } bonus ...   \n",
       "48   jp morgan chase bank , please answer the follo...   \n",
       "10   chase card be report on xx / xx/. however , fr...   \n",
       "58   I make a purchase of { $ . } on xx / xx / xxxx...   \n",
       "2    I upgrade my xxxx xxxx card in xx / xx/ and be...   \n",
       "20   during the summer month , I experience a decli...   \n",
       "127  I be xxxx military member ( xxxx ) with the xx...   \n",
       "57   I have be try to do a loan modification with c...   \n",
       "99   my name be xxxx xxxx . I have miss a payment i...   \n",
       "156  chase issue a mortgage loan against my propert...   \n",
       "26   I have reach out to xxxx several time in attem...   \n",
       "15                       can you please remove inquiry   \n",
       "11   on xx / xx/ , while try to book a xxxx   xxxx ...   \n",
       "82   I recently call to ask chase bank why they rep...   \n",
       "23   I have a chase credit card which be incorrectl...   \n",
       "\n",
       "                                 complaint_POS_removed  \\\n",
       "1    morning name stop bank cardmember debt verific...   \n",
       "14   son deposit chase account fund chase bank acco...   \n",
       "17   j.p. chase account debit card tuesday i branch...   \n",
       "24                       mishandling account auto xxxx   \n",
       "21   i payment retailer pay xxxx chase website webs...   \n",
       "59   chase i access chase % bonus chase freedom i p...   \n",
       "52   roommate chase debit card money account pin ph...   \n",
       "50   i citizen xxxx time share nothing refund credi...   \n",
       "40   xxxx sofa seat table debit card bank claim fur...   \n",
       "32   chase card catering order i amount chase today...   \n",
       "35   i account bonus i bonus auto notice xx/xx/ tra...   \n",
       "48   jp bank xx/xx/xxxx chase information reason in...   \n",
       "10   card xx/xx/ application identity consent credi...   \n",
       "58   i purchase xx/xx/xxxx i xx/xx/xxxx xx/xx/xxxx ...   \n",
       "2    i card agent upgrade date agent information or...   \n",
       "20   summer income employment month payment extensi...   \n",
       "127  i member auto finance gap insurance/waiver cov...   \n",
       "57              loan modification chase runaround i mo   \n",
       "99   name i payment xx/xx/ i loan modification loss...   \n",
       "156  chase mortgage loan property i home insurance ...   \n",
       "26   attempt inquiry i creditor inquiry report bank...   \n",
       "15                                             inquiry   \n",
       "11   book xxxx ticket i offer ticket card i informa...   \n",
       "82   i bank credit bureau i payment i i info xxxx x...   \n",
       "23       chase credit card credit report company issue   \n",
       "\n",
       "                                       Complaint_clean  Topic  \n",
       "1    morning name stop bank cardmember debt verific...      0  \n",
       "14   son deposit chase account fund chase bank acco...      0  \n",
       "17   j.p. chase account debit card tuesday i branch...      0  \n",
       "24                           mishandling account auto       0  \n",
       "21   i payment retailer pay  chase website website ...      0  \n",
       "59   chase i access chase % bonus chase freedom i p...      1  \n",
       "52   roommate chase debit card money account pin ph...      1  \n",
       "50   i citizen  time share nothing refund credit ca...      1  \n",
       "40    sofa seat table debit card bank claim furnitu...      1  \n",
       "32   chase card catering order i amount chase today...      1  \n",
       "35   i account bonus i bonus auto notice xx/xx/ tra...      2  \n",
       "48   jp bank xx/xx/ chase information reason inform...      2  \n",
       "10   card xx/xx/ application identity consent credi...      2  \n",
       "58   i purchase xx/xx/ i xx/xx/ xx/xx/ payment clos...      2  \n",
       "2    i card agent upgrade date agent information or...      2  \n",
       "20   summer income employment month payment extensi...      3  \n",
       "127  i member auto finance gap insurance/waiver cov...      3  \n",
       "57              loan modification chase runaround i mo      3  \n",
       "99   name i payment xx/xx/ i loan modification loss...      3  \n",
       "156  chase mortgage loan property i home insurance ...      3  \n",
       "26   attempt inquiry i creditor inquiry report bank...      4  \n",
       "15                                             inquiry      4  \n",
       "11   book  ticket i offer ticket card i information...      4  \n",
       "82   i bank credit bureau i payment i i info  xx/xx...      4  \n",
       "23       chase credit card credit report company issue      4  "
      ]
     },
     "execution_count": 38,
     "metadata": {},
     "output_type": "execute_result"
    }
   ],
   "source": [
    "#Print the first 5 Complaint for each of the Topics\n",
    "df_topic_5=df_clean.groupby('Topic').head(5)\n",
    "df_topic_5.sort_values('Topic')"
   ]
  },
  {
   "cell_type": "markdown",
   "metadata": {
    "id": "piyLxzj6v07j"
   },
   "source": [
    "#### After evaluating the mapping, if the topics assigned are correct then assign these names to the relevant topic:\n",
    "* Bank Account services\n",
    "* Credit card or prepaid card\n",
    "* Theft/Dispute Reporting\n",
    "* Mortgage/Loan\n",
    "* Others"
   ]
  },
  {
   "cell_type": "code",
   "execution_count": 113,
   "metadata": {},
   "outputs": [
    {
     "name": "stdout",
     "output_type": "stream",
     "text": [
      "Topic:  4\n",
      "i have reached out to xxxx several times in attempt to have this fraudulent inquiry removed i was told that i need to call and contact the original creditor that placed this inquiry on my report. i have made several attempts to get chase bank to contact the bureau and remove this inquiry that was not authorized by me. they seem to not be able to get me to the right person to take care of this issue no matter how many attempts i have made nobody seems to understand what i'm talkin about. i want chase bank to have this fraudulent inquiry removed from my credit report before i take legal action. i i have never requested any kind of credit with chase bank or hold any account with them. i have an iquiry from xx/xx/. i want this matter resolved.\n",
      "--------------------------------------------------------------------------------\n",
      "Topic:  4\n",
      "can you please remove inquiry\n",
      "--------------------------------------------------------------------------------\n",
      "Topic:  4\n",
      "on xx/xx/, while trying to book a xxxx  xxxx  ticket, i came across an offer for {$.} to be applied towards the ticket if i applied for a rewards card. i put in my information for the offer and within less than a minute, was notified via the screen that a decision could not be made. i immediately contacted xxxx and was referred to chase bank. i then immediately contacted chase bank within no more than  of getting the notification on the screen and i was told by the chase representative i spoke with that my application was denied but she could not state why. i asked for more information about the xxxx  offer and she explained that even if i had been approved, the credit offer only gets applied after the first account statement and could not be used to purchase the ticket. i then explicitly told her i was glad i got denied and i was absolutely no longer interested in the account. i asked that the application be withdrawn and the representative obliged. this all happened no later than  after putting in the application on xx/xx/. notwithstanding my explicit request not to proceed with the application and contrary to what i was told by the chase representative, chase did in fact go ahead to open a credit account in my name on xx/xx/. this is now being reported in my credit report and chase has refused to correct this information on my credit report even though they went ahead to process an application which i did not consent to and out of their error.\n",
      "--------------------------------------------------------------------------------\n",
      "Topic:  4\n",
      "i recently called to ask chase bank why they reported to the credit bureau that i was  days late on a payment that was already paid off. when i called i got this info : they showed that on the xxxx of xx/xx/ i was very late on my bill and owed xxxx to bring this balance down to xxxx and be finished with the bill. i paid that amount on the same day the xxxx to being it to xxxx. \n",
      "\n",
      "they say that i tried to make another payment for {$.} later that same day and in a few days that came back as a return payment. \n",
      "\n",
      "the man on the phone stated to me that if the payment went through then it would have meant that i had a credit on my account for xxxx since i didnt owe anything. \n",
      "\n",
      "they updated my account with charges and late fees from the return payment that i had no idea of since i thought i paid off the entire amount. they reported to the credit bureau that i was  days late for not paying what accrued to be {$.} the guy representing chase agreed with me that they were in the wrong for charging me the fees and said they would remove them. i still have {$.} in the negative that they are saying that i owe in the mobile app. \n",
      "\n",
      "additionally, because they reported me being late my credit score dropped  points. when i called back to ask if they can report that they made a mistake they said i would have to do that on my own. i think that's xxxx.\n",
      "--------------------------------------------------------------------------------\n",
      "Topic:  4\n",
      "i have a chase credit card which is incorrectly reporting data on my credit report. the company is not helping resolve the issue.\n",
      "--------------------------------------------------------------------------------\n"
     ]
    }
   ],
   "source": [
    "#0: Credit card or prepaid card\n",
    "#   Bank Account services ++\n",
    "#1: Others\n",
    "#    Theft/Dispute Reporting +++\n",
    "#2: Bank Account services ++\n",
    "#   Credit card or prepaid card?\n",
    "#3: Mortgage/Loan +++\n",
    "\n",
    "#4: Credit Card or prepaid card/\n",
    "#   Others+\n",
    "\n",
    "#for chk_num in ( 1, 14,  17, 24, 21): # 0 Bank Account services\n",
    "#for chk_num in (59, 52,  50, 40, 32): # 1  Credit card/prepaid card\n",
    "#for chk_num in (35, 48,  10, 58, 2): # 2  Theft/Dispute Reporting  -- OTHERS?\n",
    "#for chk_num in (20, 127, 57, 99, 156): # 3: Mortgage/Loan  ### Theft/Dispute Reporting???\n",
    "for chk_num in (26, 15,  11, 82, 23): # 4 Others\n",
    "    print('Topic: ', df_clean.loc[chk_num]['Topic'])\n",
    "    print(df_clean.loc[chk_num]['complaint_what_happened']) # Credit Card or Prepaid Card\n",
    "    print('--'*40)"
   ]
  },
  {
   "cell_type": "code",
   "execution_count": 40,
   "metadata": {
    "id": "TWpwDG4RJrGG"
   },
   "outputs": [],
   "source": [
    "#Create the dictionary of Topic names and Topics\n",
    "\n",
    "Topic_names = { 0:'Bank Account services', 1: 'Credit card or prepaid card', 2: 'Theft/Dispute Reporting', 3: 'Mortgage/Loan', 4: 'Others' }\n",
    "#Replace Topics with Topic Names\n",
    "df_clean['Topic'] = df_clean['Topic'].map(Topic_names)"
   ]
  },
  {
   "cell_type": "markdown",
   "metadata": {
    "id": "7Mu0QBOcJrGH"
   },
   "source": [
    "## Supervised model to predict any new complaints to the relevant Topics.\n",
    "\n",
    "You have now build the model to create the topics for each complaints.Now in the below section you will use them to classify any new complaints.\n",
    "\n",
    "Since you will be using supervised learning technique we have to convert the topic names to numbers(numpy arrays only understand numbers)"
   ]
  },
  {
   "cell_type": "code",
   "execution_count": 41,
   "metadata": {
    "id": "_U8J3J8wJrGH"
   },
   "outputs": [],
   "source": [
    "#Create the dictionary of Topic names and Topics\n",
    "\n",
    "#Topic_names = { 0:'Bank Account services', 1: 'Credit card or prepaid card', 2: 'Theft/Dispute Reporting', 3: 'Mortgage/Loan', 4: 'Others' }\n",
    "Topic_names = { 'Bank Account services': 0, 'Credit card or prepaid card': 1, 'Theft/Dispute Reporting': 2, 'Mortgage/Loan': 3, 'Others' :4 }\n",
    "#Replace Topics with Topic Names\n",
    "df_clean['Topic'] = df_clean['Topic'].map(Topic_names)"
   ]
  },
  {
   "cell_type": "code",
   "execution_count": 42,
   "metadata": {
    "id": "BWIgJUkQJrGH"
   },
   "outputs": [
    {
     "data": {
      "text/html": [
       "<div>\n",
       "<style scoped>\n",
       "    .dataframe tbody tr th:only-of-type {\n",
       "        vertical-align: middle;\n",
       "    }\n",
       "\n",
       "    .dataframe tbody tr th {\n",
       "        vertical-align: top;\n",
       "    }\n",
       "\n",
       "    .dataframe thead th {\n",
       "        text-align: right;\n",
       "    }\n",
       "</style>\n",
       "<table border=\"1\" class=\"dataframe\">\n",
       "  <thead>\n",
       "    <tr style=\"text-align: right;\">\n",
       "      <th></th>\n",
       "      <th>complaint_what_happened</th>\n",
       "      <th>complaint_lemmatized</th>\n",
       "      <th>complaint_POS_removed</th>\n",
       "      <th>Complaint_clean</th>\n",
       "      <th>Topic</th>\n",
       "    </tr>\n",
       "  </thead>\n",
       "  <tbody>\n",
       "    <tr>\n",
       "      <th>1</th>\n",
       "      <td>good morning my name is xxxx xxxx and i apprec...</td>\n",
       "      <td>good morning my name be xxxx xxxx and I apprec...</td>\n",
       "      <td>morning name stop bank cardmember debt verific...</td>\n",
       "      <td>morning name stop bank cardmember debt verific...</td>\n",
       "      <td>0</td>\n",
       "    </tr>\n",
       "    <tr>\n",
       "      <th>2</th>\n",
       "      <td>i upgraded my xxxx xxxx card in xx/xx/ and was...</td>\n",
       "      <td>I upgrade my xxxx xxxx card in xx / xx/ and be...</td>\n",
       "      <td>i card agent upgrade date agent information or...</td>\n",
       "      <td>i card agent upgrade date agent information or...</td>\n",
       "      <td>2</td>\n",
       "    </tr>\n",
       "    <tr>\n",
       "      <th>10</th>\n",
       "      <td>chase card was reported on xx/xx/. however, fr...</td>\n",
       "      <td>chase card be report on xx / xx/. however , fr...</td>\n",
       "      <td>card xx/xx/ application identity consent credi...</td>\n",
       "      <td>card xx/xx/ application identity consent credi...</td>\n",
       "      <td>2</td>\n",
       "    </tr>\n",
       "    <tr>\n",
       "      <th>11</th>\n",
       "      <td>on xx/xx/, while trying to book a xxxx  xxxx  ...</td>\n",
       "      <td>on xx / xx/ , while try to book a xxxx   xxxx ...</td>\n",
       "      <td>book xxxx ticket i offer ticket card i informa...</td>\n",
       "      <td>book  ticket i offer ticket card i information...</td>\n",
       "      <td>4</td>\n",
       "    </tr>\n",
       "    <tr>\n",
       "      <th>14</th>\n",
       "      <td>my grand son give me check for {$.} i deposit ...</td>\n",
       "      <td>my grand son give I check for { $ . } I deposi...</td>\n",
       "      <td>son deposit chase account fund chase bank acco...</td>\n",
       "      <td>son deposit chase account fund chase bank acco...</td>\n",
       "      <td>0</td>\n",
       "    </tr>\n",
       "  </tbody>\n",
       "</table>\n",
       "</div>"
      ],
      "text/plain": [
       "                              complaint_what_happened  \\\n",
       "1   good morning my name is xxxx xxxx and i apprec...   \n",
       "2   i upgraded my xxxx xxxx card in xx/xx/ and was...   \n",
       "10  chase card was reported on xx/xx/. however, fr...   \n",
       "11  on xx/xx/, while trying to book a xxxx  xxxx  ...   \n",
       "14  my grand son give me check for {$.} i deposit ...   \n",
       "\n",
       "                                 complaint_lemmatized  \\\n",
       "1   good morning my name be xxxx xxxx and I apprec...   \n",
       "2   I upgrade my xxxx xxxx card in xx / xx/ and be...   \n",
       "10  chase card be report on xx / xx/. however , fr...   \n",
       "11  on xx / xx/ , while try to book a xxxx   xxxx ...   \n",
       "14  my grand son give I check for { $ . } I deposi...   \n",
       "\n",
       "                                complaint_POS_removed  \\\n",
       "1   morning name stop bank cardmember debt verific...   \n",
       "2   i card agent upgrade date agent information or...   \n",
       "10  card xx/xx/ application identity consent credi...   \n",
       "11  book xxxx ticket i offer ticket card i informa...   \n",
       "14  son deposit chase account fund chase bank acco...   \n",
       "\n",
       "                                      Complaint_clean  Topic  \n",
       "1   morning name stop bank cardmember debt verific...      0  \n",
       "2   i card agent upgrade date agent information or...      2  \n",
       "10  card xx/xx/ application identity consent credi...      2  \n",
       "11  book  ticket i offer ticket card i information...      4  \n",
       "14  son deposit chase account fund chase bank acco...      0  "
      ]
     },
     "execution_count": 42,
     "metadata": {},
     "output_type": "execute_result"
    }
   ],
   "source": [
    "df_clean.head()"
   ]
  },
  {
   "cell_type": "code",
   "execution_count": 96,
   "metadata": {},
   "outputs": [
    {
     "data": {
      "image/png": "[encoded data removed]",
      "text/plain": [
       "<Figure size 640x480 with 1 Axes>"
      ]
     },
     "metadata": {},
     "output_type": "display_data"
    }
   ],
   "source": [
    "plt.hist(df_clean['Topic'] , bins=5, rwidth=0.75)\n",
    "plt.xticks(range(0,5))\n",
    "plt.show()"
   ]
  },
  {
   "cell_type": "code",
   "execution_count": null,
   "metadata": {},
   "outputs": [],
   "source": []
  },
  {
   "cell_type": "code",
   "execution_count": 43,
   "metadata": {
    "id": "Xx-FrbkWJrGH"
   },
   "outputs": [],
   "source": [
    "#Keep the columns\"complaint_what_happened\" & \"Topic\" only in the new dataframe --> training_data\n",
    "training_data= df_clean.loc[:, ('complaint_what_happened', 'Topic')]"
   ]
  },
  {
   "cell_type": "code",
   "execution_count": 44,
   "metadata": {
    "id": "lVg2pa12JrGI"
   },
   "outputs": [
    {
     "name": "stdout",
     "output_type": "stream",
     "text": [
      "(21072, 2)\n"
     ]
    },
    {
     "data": {
      "text/html": [
       "<div>\n",
       "<style scoped>\n",
       "    .dataframe tbody tr th:only-of-type {\n",
       "        vertical-align: middle;\n",
       "    }\n",
       "\n",
       "    .dataframe tbody tr th {\n",
       "        vertical-align: top;\n",
       "    }\n",
       "\n",
       "    .dataframe thead th {\n",
       "        text-align: right;\n",
       "    }\n",
       "</style>\n",
       "<table border=\"1\" class=\"dataframe\">\n",
       "  <thead>\n",
       "    <tr style=\"text-align: right;\">\n",
       "      <th></th>\n",
       "      <th>complaint_what_happened</th>\n",
       "      <th>Topic</th>\n",
       "    </tr>\n",
       "  </thead>\n",
       "  <tbody>\n",
       "    <tr>\n",
       "      <th>1</th>\n",
       "      <td>good morning my name is xxxx xxxx and i apprec...</td>\n",
       "      <td>0</td>\n",
       "    </tr>\n",
       "    <tr>\n",
       "      <th>2</th>\n",
       "      <td>i upgraded my xxxx xxxx card in xx/xx/ and was...</td>\n",
       "      <td>2</td>\n",
       "    </tr>\n",
       "    <tr>\n",
       "      <th>10</th>\n",
       "      <td>chase card was reported on xx/xx/. however, fr...</td>\n",
       "      <td>2</td>\n",
       "    </tr>\n",
       "    <tr>\n",
       "      <th>11</th>\n",
       "      <td>on xx/xx/, while trying to book a xxxx  xxxx  ...</td>\n",
       "      <td>4</td>\n",
       "    </tr>\n",
       "    <tr>\n",
       "      <th>14</th>\n",
       "      <td>my grand son give me check for {$.} i deposit ...</td>\n",
       "      <td>0</td>\n",
       "    </tr>\n",
       "    <tr>\n",
       "      <th>...</th>\n",
       "      <td>...</td>\n",
       "      <td>...</td>\n",
       "    </tr>\n",
       "    <tr>\n",
       "      <th>78303</th>\n",
       "      <td>after being a chase card customer for well ove...</td>\n",
       "      <td>4</td>\n",
       "    </tr>\n",
       "    <tr>\n",
       "      <th>78309</th>\n",
       "      <td>on wednesday, xx/xx/xxxx i called chas, my xxx...</td>\n",
       "      <td>2</td>\n",
       "    </tr>\n",
       "    <tr>\n",
       "      <th>78310</th>\n",
       "      <td>i am not familiar with xxxx pay and did not un...</td>\n",
       "      <td>0</td>\n",
       "    </tr>\n",
       "    <tr>\n",
       "      <th>78311</th>\n",
       "      <td>i have had flawless credit for  yrs. i've had ...</td>\n",
       "      <td>2</td>\n",
       "    </tr>\n",
       "    <tr>\n",
       "      <th>78312</th>\n",
       "      <td>roughly + years ago i closed out my accounts w...</td>\n",
       "      <td>3</td>\n",
       "    </tr>\n",
       "  </tbody>\n",
       "</table>\n",
       "<p>21072 rows × 2 columns</p>\n",
       "</div>"
      ],
      "text/plain": [
       "                                 complaint_what_happened  Topic\n",
       "1      good morning my name is xxxx xxxx and i apprec...      0\n",
       "2      i upgraded my xxxx xxxx card in xx/xx/ and was...      2\n",
       "10     chase card was reported on xx/xx/. however, fr...      2\n",
       "11     on xx/xx/, while trying to book a xxxx  xxxx  ...      4\n",
       "14     my grand son give me check for {$.} i deposit ...      0\n",
       "...                                                  ...    ...\n",
       "78303  after being a chase card customer for well ove...      4\n",
       "78309  on wednesday, xx/xx/xxxx i called chas, my xxx...      2\n",
       "78310  i am not familiar with xxxx pay and did not un...      0\n",
       "78311  i have had flawless credit for  yrs. i've had ...      2\n",
       "78312  roughly + years ago i closed out my accounts w...      3\n",
       "\n",
       "[21072 rows x 2 columns]"
      ]
     },
     "execution_count": 44,
     "metadata": {},
     "output_type": "execute_result"
    }
   ],
   "source": [
    "print(training_data.shape)\n",
    "training_data\n"
   ]
  },
  {
   "cell_type": "markdown",
   "metadata": {
    "id": "280Vbqk-7a8M"
   },
   "source": [
    "#### Apply the supervised models on the training data created. In this process, you have to do the following:\n",
    "* Create the vector counts using Count Vectoriser\n",
    "* Transform the word vecotr to tf-idf\n",
    "* Create the train & test data using the train_test_split on the tf-idf & topics\n"
   ]
  },
  {
   "cell_type": "code",
   "execution_count": 50,
   "metadata": {
    "id": "oUlQpgkzJrGI",
    "scrolled": true
   },
   "outputs": [],
   "source": [
    "\n",
    "#Write your code to get the Vector count\n",
    "vector_counts = CountVectorizer()\n",
    "\n",
    "X_train_vector_counts = vector_counts.fit_transform(training_data['complaint_what_happened'])\n",
    "X_train_vector_counts\n",
    "\n",
    "#Write your code here to transform the word vector to tf-idf\n",
    "from sklearn.feature_extraction.text import TfidfTransformer\n",
    "\n",
    "tfidf_transformer = TfidfTransformer()\n",
    "X_train_tfidf = tfidf_transformer.fit_transform(X_train_vector_counts)"
   ]
  },
  {
   "cell_type": "code",
   "execution_count": 51,
   "metadata": {
    "scrolled": true
   },
   "outputs": [
    {
     "data": {
      "text/plain": [
       "<21072x27984 sparse matrix of type '<class 'numpy.float64'>'\n",
       "\twith 2282162 stored elements in Compressed Sparse Row format>"
      ]
     },
     "execution_count": 51,
     "metadata": {},
     "output_type": "execute_result"
    }
   ],
   "source": [
    "X_train_tfidf"
   ]
  },
  {
   "cell_type": "code",
   "execution_count": 52,
   "metadata": {},
   "outputs": [],
   "source": [
    "import pickle\n",
    "pickle.dump(tfidf_transformer, open(\"tfidf_model.pkl\",\"wb\"))"
   ]
  },
  {
   "cell_type": "markdown",
   "metadata": {
    "id": "uMU3vj6w-wqL"
   },
   "source": [
    "You have to try atleast 3 models on the train & test data from these options:\n",
    "* Logistic regression\n",
    "* Decision Tree\n",
    "* Random Forest\n",
    "* Naive Bayes (optional)\n",
    "\n",
    "**Using the required evaluation metrics judge the tried models and select the ones performing the best**"
   ]
  },
  {
   "cell_type": "code",
   "execution_count": 74,
   "metadata": {
    "id": "udLHpPsZJrGI"
   },
   "outputs": [],
   "source": [
    "# Write your code here to build any 3 models and evaluate them using the required metrics\n",
    "from sklearn.model_selection import train_test_split\n",
    "from sklearn.metrics import f1_score, classification_report, confusion_matrix, accuracy_score\n",
    "\n",
    "X_train, X_test, y_train, y_test = train_test_split(X_train_tfidf, training_data.Topic, test_size=0.20, random_state=42)\n",
    "\n",
    "topic_labels_ordered = ['Bank Account services', 'Credit card or prepaid card', 'Theft/Dispute Reporting', 'Mortgage/Loan', 'Others']"
   ]
  },
  {
   "cell_type": "code",
   "execution_count": 100,
   "metadata": {},
   "outputs": [],
   "source": [
    "def test_and_print_results(X_test, y_test, model, model_name):\n",
    "    y_test_predicted = model.predict(X_test)\n",
    "\n",
    "    print(\"\\n\\n%s - Test - Accuracy Score:\" %model_name, accuracy_score(y_true= y_test, y_pred=y_test_predicted))\n",
    "\n",
    "    print(\"\\n\\n%s - Test - Confusion Matrix:\\n\" % model_name)\n",
    "    print(confusion_matrix(y_true= y_test, y_pred=y_test_predicted))\n",
    "\n",
    "    print(\"\\n\\n%s - Test - Classification Report:\\n\" % model_name)\n",
    "    lr_class_report = classification_report(y_true= y_test, y_pred=y_test_predicted, target_names=topic_labels_ordered)\n",
    "    print(lr_class_report)"
   ]
  },
  {
   "cell_type": "markdown",
   "metadata": {
    "id": "N2OznsObJrGP"
   },
   "source": [
    "#### Logistic Regression"
   ]
  },
  {
   "cell_type": "code",
   "execution_count": 72,
   "metadata": {},
   "outputs": [],
   "source": [
    "from sklearn.linear_model import LogisticRegression\n",
    "\n",
    "lr_model = LogisticRegression(random_state=42, max_iter=30000)\n",
    "lr_model.fit(X_train, y_train)\n",
    "#pickle.dump(lr_model, open('LogisticRegression_model.pkl', 'wb'))"
   ]
  },
  {
   "cell_type": "code",
   "execution_count": 101,
   "metadata": {},
   "outputs": [
    {
     "name": "stdout",
     "output_type": "stream",
     "text": [
      "\n",
      "\n",
      "Logistic Regression - Test - Accuracy Score: 0.8519572953736655\n",
      "\n",
      "\n",
      "Logistic Regression - Test - Confusion Matrix:\n",
      "\n",
      "[[989  20  63  14   5]\n",
      " [ 33 906  50  13   5]\n",
      " [ 94  77 452  54  33]\n",
      " [ 15  17  31 758   9]\n",
      " [ 18  33  25  15 486]]\n",
      "\n",
      "\n",
      "Logistic Regression - Test - Classification Report:\n",
      "\n",
      "                             precision    recall  f1-score   support\n",
      "\n",
      "      Bank Account services       0.86      0.91      0.88      1091\n",
      "Credit card or prepaid card       0.86      0.90      0.88      1007\n",
      "    Theft/Dispute Reporting       0.73      0.64      0.68       710\n",
      "              Mortgage/Loan       0.89      0.91      0.90       830\n",
      "                     Others       0.90      0.84      0.87       577\n",
      "\n",
      "                   accuracy                           0.85      4215\n",
      "                  macro avg       0.85      0.84      0.84      4215\n",
      "               weighted avg       0.85      0.85      0.85      4215\n",
      "\n"
     ]
    }
   ],
   "source": [
    "test_and_print_results(X_test, y_test, lr_model, 'Logistic Regression')"
   ]
  },
  {
   "cell_type": "markdown",
   "metadata": {},
   "source": [
    "### Observations:\n",
    "- The Logistic regression shows good values at F1 score.\n",
    "- The Precision and recall scores for Theft/Dispute Reporting seem low when compared with other categories. This could be due to confusing data with respect to other categories as the Theft/Dispute occurs in overlap with any of the other categories..."
   ]
  },
  {
   "cell_type": "code",
   "execution_count": null,
   "metadata": {},
   "outputs": [],
   "source": []
  },
  {
   "cell_type": "markdown",
   "metadata": {},
   "source": [
    "#### Decision Tree"
   ]
  },
  {
   "cell_type": "code",
   "execution_count": 98,
   "metadata": {},
   "outputs": [],
   "source": [
    "from sklearn.tree import DecisionTreeClassifier\n",
    "\n",
    "dt_classifier = DecisionTreeClassifier(random_state=42)\n",
    "dt_classifier_model = dt_classifier.fit(X_train, y_train)"
   ]
  },
  {
   "cell_type": "code",
   "execution_count": 102,
   "metadata": {},
   "outputs": [
    {
     "name": "stdout",
     "output_type": "stream",
     "text": [
      "\n",
      "\n",
      "Decision Tree - Test - Accuracy Score: 0.7421115065243179\n",
      "\n",
      "\n",
      "Decision Tree - Test - Confusion Matrix:\n",
      "\n",
      "[[818  74 116  51  32]\n",
      " [ 69 795  72  26  45]\n",
      " [ 94  81 436  69  30]\n",
      " [ 45  31  57 668  29]\n",
      " [ 36  56  44  30 411]]\n",
      "\n",
      "\n",
      "Decision Tree - Test - Classification Report:\n",
      "\n",
      "                             precision    recall  f1-score   support\n",
      "\n",
      "      Bank Account services       0.77      0.75      0.76      1091\n",
      "Credit card or prepaid card       0.77      0.79      0.78      1007\n",
      "    Theft/Dispute Reporting       0.60      0.61      0.61       710\n",
      "              Mortgage/Loan       0.79      0.80      0.80       830\n",
      "                     Others       0.75      0.71      0.73       577\n",
      "\n",
      "                   accuracy                           0.74      4215\n",
      "                  macro avg       0.74      0.73      0.73      4215\n",
      "               weighted avg       0.74      0.74      0.74      4215\n",
      "\n"
     ]
    }
   ],
   "source": [
    "test_and_print_results(X_test, y_test, dt_classifier_model, 'Decision Tree')"
   ]
  },
  {
   "cell_type": "markdown",
   "metadata": {},
   "source": [
    "##### Observations - Decision Trees\n",
    "- The model doesn't seem to out-perform than the Logistic Regression outcome."
   ]
  },
  {
   "cell_type": "code",
   "execution_count": null,
   "metadata": {},
   "outputs": [],
   "source": []
  },
  {
   "cell_type": "markdown",
   "metadata": {},
   "source": [
    "### Random Forests"
   ]
  },
  {
   "cell_type": "code",
   "execution_count": 106,
   "metadata": {},
   "outputs": [],
   "source": [
    "from sklearn.ensemble import RandomForestClassifier\n",
    "\n",
    "rfc = RandomForestClassifier(random_state=42, max_depth=10)\n",
    "random_forest_model = rfc.fit(X_train, y_train)"
   ]
  },
  {
   "cell_type": "code",
   "execution_count": 107,
   "metadata": {},
   "outputs": [
    {
     "name": "stdout",
     "output_type": "stream",
     "text": [
      "\n",
      "\n",
      "Random Forest - Test - Accuracy Score: 0.6125741399762752\n",
      "\n",
      "\n",
      "Random Forest - Test - Confusion Matrix:\n",
      "\n",
      "[[1003   65    0   21    2]\n",
      " [ 198  788    0   16    5]\n",
      " [ 315  260   17   97   21]\n",
      " [ 137   67    1  623    2]\n",
      " [ 121  253    1   51  151]]\n",
      "\n",
      "\n",
      "Random Forest - Test - Classification Report:\n",
      "\n",
      "                             precision    recall  f1-score   support\n",
      "\n",
      "      Bank Account services       0.57      0.92      0.70      1091\n",
      "Credit card or prepaid card       0.55      0.78      0.65      1007\n",
      "    Theft/Dispute Reporting       0.89      0.02      0.05       710\n",
      "              Mortgage/Loan       0.77      0.75      0.76       830\n",
      "                     Others       0.83      0.26      0.40       577\n",
      "\n",
      "                   accuracy                           0.61      4215\n",
      "                  macro avg       0.72      0.55      0.51      4215\n",
      "               weighted avg       0.69      0.61      0.55      4215\n",
      "\n"
     ]
    }
   ],
   "source": [
    "test_and_print_results(X_test, y_test, random_forest_model, 'Random Forest')"
   ]
  },
  {
   "cell_type": "markdown",
   "metadata": {},
   "source": [
    "##### Observations - Random forest\n",
    "- The model doesn't seem to out-perform than the Logistic Regression outcome.\n",
    "- THe values for f1-score and recall are very low for Theft/Dispute Reporting which means, it has failed to report"
   ]
  },
  {
   "cell_type": "code",
   "execution_count": null,
   "metadata": {},
   "outputs": [],
   "source": []
  },
  {
   "cell_type": "markdown",
   "metadata": {
    "jp-MarkdownHeadingCollapsed": true
   },
   "source": [
    "# SCRIBBLE"
   ]
  },
  {
   "cell_type": "markdown",
   "metadata": {},
   "source": [
    "## Test Model\n",
    "- Input Sentence\n",
    "- Count Vectorizer\n",
    "- TF_IDF model\n",
    "- Supervised Learning Model"
   ]
  },
  {
   "cell_type": "code",
   "execution_count": null,
   "metadata": {},
   "outputs": [],
   "source": [
    "def prepare_model_for_testing(X_test, count_vectorizer, tfidf_model_file, sup_learn_model_file):\n",
    "    tfidf_model = pickle.load(open(tfidf_model_file, 'rb'))\n",
    "    supervised_learning_model = pickle.load(open(sup_learn_model_file, 'rb'))\n",
    "\n",
    "    count_vec_output = count_vectorizer.transform(X_test)\n",
    "    tfidf_model_output = tfidf_model.transform(count_vec_output)\n",
    "    predicted_outcome = supervised_learning_model.predict(tfidf_model_output)\n",
    "    return predicted_outcome"
   ]
  }
 ],
 "metadata": {
  "colab": {
   "collapsed_sections": [
    "T9jD_6SeJrF3",
    "5DfCSbbmJrF4",
    "yYzD85nTJrGA",
    "piyLxzj6v07j",
    "280Vbqk-7a8M"
   ],
   "provenance": []
  },
  "kernelspec": {
   "display_name": "Python 3 (ipykernel)",
   "language": "python",
   "name": "python3"
  },
  "language_info": {
   "codemirror_mode": {
    "name": "ipython",
    "version": 3
   },
   "file_extension": ".py",
   "mimetype": "text/x-python",
   "name": "python",
   "nbconvert_exporter": "python",
   "pygments_lexer": "ipython3",
   "version": "3.9.13"
  }
 },
 "nbformat": 4,
 "nbformat_minor": 4
}
